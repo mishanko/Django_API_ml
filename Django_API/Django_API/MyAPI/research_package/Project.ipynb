{
 "cells": [
  {
   "cell_type": "markdown",
   "metadata": {},
   "source": [
    "# Review Classifier project by Mikhail Mikhailov"
   ]
  },
  {
   "cell_type": "markdown",
   "metadata": {},
   "source": [
    "## План отчета:  \n",
    "                     I: Задачи классификации\n",
    "                        1) Подготовка данных и обучение модели\n",
    "                        2) Оценка точности полученного результата на тестовой выборке\n",
    "                     II: Веб-сервис\n",
    "                        1) Разработка веб-сервиса на базе фреймворка Django\n",
    "                        2) Ссылки на репозиторий github и на прототип сервиса "
   ]
  },
  {
   "cell_type": "markdown",
   "metadata": {},
   "source": [
    "## Задачи классификации"
   ]
  },
  {
   "cell_type": "markdown",
   "metadata": {},
   "source": [
    "### Подготовка данных и обучение модели"
   ]
  },
  {
   "cell_type": "markdown",
   "metadata": {},
   "source": [
    "Загрузим необходимые библиотеки"
   ]
  },
  {
   "cell_type": "code",
   "execution_count": 1,
   "metadata": {},
   "outputs": [],
   "source": [
    "import numpy as np # для манипуляций с данными\n",
    "import pandas as pd # для манипуляций с данными\n",
    "import fasttext # для обучения модели\n",
    "from tqdm import tqdm # для мониторинга работы циклов\n",
    "import re # для работы с регулярными выражениями\n",
    "import string\n",
    "from nltk.corpus import PlaintextCorpusReader # для считывания названия текстовых файлов\n",
    "from sklearn.utils import shuffle # для перемешивания данных в dataframe\n",
    "from nltk.stem.porter import PorterStemmer\n",
    "from nltk.corpus import stopwords\n",
    "import nltk"
   ]
  },
  {
   "cell_type": "markdown",
   "metadata": {},
   "source": [
    "#### Разобьем задачу на две подзадачи: \n",
    "                            1) Обучим модель многоклассовой классификации (прогнозирование рейтинга фильма) и оценим ее точность\n",
    "                            2) Обучим модель бинарной классификации (прогнозирование статуса комментария)"
   ]
  },
  {
   "cell_type": "markdown",
   "metadata": {},
   "source": [
    "#### Многоклассовая классификация"
   ]
  },
  {
   "cell_type": "markdown",
   "metadata": {},
   "source": [
    "Для выполнения этой задачи, мной было принято решение уменьшить количество классов с 8 до 4, путем объедининия двух близких классов. Так как классы очень близки между собой. "
   ]
  },
  {
   "cell_type": "markdown",
   "metadata": {},
   "source": [
    "#### Загрузка данных"
   ]
  },
  {
   "cell_type": "code",
   "execution_count": 2,
   "metadata": {},
   "outputs": [],
   "source": [
    "def sorter(paths): # функция сортирующая отзывы в папках в словарь reviews\n",
    "    reviews = {'1-2':[], \"3-4\":[], \"7-8\":[], \"9-10\":[]}\n",
    "    for path in paths:\n",
    "        if path == 'neg_train' or path == 'neg':\n",
    "            for rating in range(1, 5):\n",
    "                corpus = PlaintextCorpusReader(path, '.*\\_{}.txt'.format(rating), encoding='utf-8') # считывание названий файлов \n",
    "                names = corpus.fileids()\n",
    "                for name in names:\n",
    "                    file = open(path + f\"/{name}\")\n",
    "                    text = file.read()\n",
    "                    # сортировка по ключам\n",
    "                    if rating == 1 or rating == 2:  \n",
    "                        reviews[\"1-2\"].append(text)\n",
    "                    if rating == 3 or rating == 4:\n",
    "                        reviews[\"3-4\"].append(text)\n",
    "        elif path == \"pos_train\" or path == 'pos':\n",
    "            for rating in range(7, 11):\n",
    "                corpus = PlaintextCorpusReader(path, '.*\\_{}.txt'.format(rating), encoding='utf-8')\n",
    "                names = corpus.fileids()\n",
    "                for name in names:\n",
    "                    file = open(path + f\"/{name}\")\n",
    "                    text = file.read()\n",
    "                    # сортировка по ключам\n",
    "                    if rating == 7 or rating == 8:\n",
    "                        reviews[\"7-8\"].append(text)\n",
    "                    if rating == 9 or rating == 10:\n",
    "                        reviews[\"9-10\"].append(text)\n",
    "    return reviews"
   ]
  },
  {
   "cell_type": "code",
   "execution_count": 3,
   "metadata": {},
   "outputs": [],
   "source": [
    "paths = ['train_neg', 'train_neg', 'pos', 'neg']\n",
    "reviews_rating = sorter(paths)"
   ]
  },
  {
   "cell_type": "markdown",
   "metadata": {},
   "source": [
    "#### Знакомство с данными и их предобработка"
   ]
  },
  {
   "cell_type": "markdown",
   "metadata": {},
   "source": [
    "Преобразуем слова reviews_rating в Dataframe df_rating. Так как содержимое Dataframe сортировано по строкам, перемешаем строки."
   ]
  },
  {
   "cell_type": "code",
   "execution_count": 4,
   "metadata": {},
   "outputs": [],
   "source": [
    "df_rating = shuffle(pd.DataFrame([(key, var) for (key, L) in reviews_rating.items() for var in L], \n",
    "                 columns=['rating', 'review']))"
   ]
  },
  {
   "cell_type": "markdown",
   "metadata": {},
   "source": [
    "Сохраним полученный Dataframe в csv файл."
   ]
  },
  {
   "cell_type": "code",
   "execution_count": 5,
   "metadata": {},
   "outputs": [],
   "source": [
    "df_rating.to_csv('df_rating_doubled.csv')"
   ]
  },
  {
   "cell_type": "markdown",
   "metadata": {},
   "source": [
    "Созданим вспомогательную функцию preprocessor, которая будет убирать из текста знаки препинания, переводить слова в нижний регистр. "
   ]
  },
  {
   "cell_type": "code",
   "execution_count": 6,
   "metadata": {},
   "outputs": [
    {
     "data": {
      "text/plain": [
       "'this is a test :) :('"
      ]
     },
     "execution_count": 6,
     "metadata": {},
     "output_type": "execute_result"
    }
   ],
   "source": [
    "import re\n",
    "def preprocessor(text):\n",
    "    text =re.sub('<[^>]*>', '', text)\n",
    "    emoticons = re.findall('(?::|;|=)(?:-)?(?:\\)|\\(|D|P)', text)\n",
    "    text = re.sub('[\\W]+', ' ', text.lower()) + ' '.join(emoticons).replace('-', '')\n",
    "    return text\n",
    "\n",
    "preprocessor(\"This is a :) test :-( !\")"
   ]
  },
  {
   "cell_type": "markdown",
   "metadata": {},
   "source": [
    "Создадим функцию, которая разбивает отзывы на слова. А также убирает стоп-слова."
   ]
  },
  {
   "cell_type": "code",
   "execution_count": 7,
   "metadata": {},
   "outputs": [
    {
     "data": {
      "text/plain": [
       "['like', 'run', 'thu', 'run']"
      ]
     },
     "execution_count": 7,
     "metadata": {},
     "output_type": "execute_result"
    }
   ],
   "source": [
    "porter = PorterStemmer()\n",
    "def tokenizer_stemmer(text):\n",
    "    stop = stopwords.words('english')\n",
    "    return [w for w in [porter.stem(word) for word in text.split()] if w not in stop]\n",
    "\n",
    "tokenizer_stemmer('like running thus they run')"
   ]
  },
  {
   "cell_type": "code",
   "execution_count": 8,
   "metadata": {},
   "outputs": [
    {
     "name": "stdout",
     "output_type": "stream",
     "text": [
      "Geeks for Geeks\n"
     ]
    }
   ],
   "source": [
    "def list_to_string(text):\n",
    "    str1 = ' '\n",
    "    return(str1.join(text))\n",
    "\n",
    "s = ['Geeks', 'for', \"Geeks\"]\n",
    "print(list_to_string(s))"
   ]
  },
  {
   "cell_type": "markdown",
   "metadata": {},
   "source": [
    "Обработаем Dataframe."
   ]
  },
  {
   "cell_type": "code",
   "execution_count": 9,
   "metadata": {},
   "outputs": [],
   "source": [
    "df_rating['preprocessed_review'] = df_rating.review.apply(preprocessor)"
   ]
  },
  {
   "cell_type": "code",
   "execution_count": 10,
   "metadata": {},
   "outputs": [],
   "source": [
    "df_rating['tokenized_review'] = df_rating.preprocessed_review.apply(tokenizer_stemmer)"
   ]
  },
  {
   "cell_type": "code",
   "execution_count": 11,
   "metadata": {},
   "outputs": [],
   "source": [
    "df_rating['string_review'] = df_rating.tokenized_review.apply(list_to_string)"
   ]
  },
  {
   "cell_type": "code",
   "execution_count": 12,
   "metadata": {},
   "outputs": [
    {
     "data": {
      "text/html": [
       "<div>\n",
       "<style scoped>\n",
       "    .dataframe tbody tr th:only-of-type {\n",
       "        vertical-align: middle;\n",
       "    }\n",
       "\n",
       "    .dataframe tbody tr th {\n",
       "        vertical-align: top;\n",
       "    }\n",
       "\n",
       "    .dataframe thead th {\n",
       "        text-align: right;\n",
       "    }\n",
       "</style>\n",
       "<table border=\"1\" class=\"dataframe\">\n",
       "  <thead>\n",
       "    <tr style=\"text-align: right;\">\n",
       "      <th></th>\n",
       "      <th>rating</th>\n",
       "      <th>review</th>\n",
       "      <th>preprocessed_review</th>\n",
       "      <th>tokenized_review</th>\n",
       "      <th>string_review</th>\n",
       "    </tr>\n",
       "  </thead>\n",
       "  <tbody>\n",
       "    <tr>\n",
       "      <th>23637</th>\n",
       "      <td>9-10</td>\n",
       "      <td>It takes guts to make a movie on Gandhi in Ind...</td>\n",
       "      <td>it takes guts to make a movie on gandhi in ind...</td>\n",
       "      <td>[take, gut, make, movi, gandhi, india, shown, ...</td>\n",
       "      <td>take gut make movi gandhi india shown man coul...</td>\n",
       "    </tr>\n",
       "    <tr>\n",
       "      <th>12099</th>\n",
       "      <td>3-4</td>\n",
       "      <td>After watching Awake,I led to a conclusion:dir...</td>\n",
       "      <td>after watching awake i led to a conclusion dir...</td>\n",
       "      <td>[watch, awak, led, conclus, director, screenwr...</td>\n",
       "      <td>watch awak led conclus director screenwrit job...</td>\n",
       "    </tr>\n",
       "    <tr>\n",
       "      <th>13508</th>\n",
       "      <td>7-8</td>\n",
       "      <td>I can safely admit (as an IMDb geek) that 'Pha...</td>\n",
       "      <td>i can safely admit as an imdb geek that phanto...</td>\n",
       "      <td>[safe, admit, imdb, geek, phantom, ladi, never...</td>\n",
       "      <td>safe admit imdb geek phantom ladi never crack ...</td>\n",
       "    </tr>\n",
       "    <tr>\n",
       "      <th>1848</th>\n",
       "      <td>1-2</td>\n",
       "      <td>Warning Spoiler. . . I have to agree with you,...</td>\n",
       "      <td>warning spoiler i have to agree with you it wa...</td>\n",
       "      <td>[warn, spoiler, agre, wa, almost, thi, wa, bad...</td>\n",
       "      <td>warn spoiler agre wa almost thi wa bad movi in...</td>\n",
       "    </tr>\n",
       "    <tr>\n",
       "      <th>19832</th>\n",
       "      <td>9-10</td>\n",
       "      <td>It's hard to top this movie in several ways. E...</td>\n",
       "      <td>it s hard to top this movie in several ways ev...</td>\n",
       "      <td>[hard, top, thi, movi, sever, way, everyth, wo...</td>\n",
       "      <td>hard top thi movi sever way everyth work reall...</td>\n",
       "    </tr>\n",
       "  </tbody>\n",
       "</table>\n",
       "</div>"
      ],
      "text/plain": [
       "      rating                                             review  \\\n",
       "23637   9-10  It takes guts to make a movie on Gandhi in Ind...   \n",
       "12099    3-4  After watching Awake,I led to a conclusion:dir...   \n",
       "13508    7-8  I can safely admit (as an IMDb geek) that 'Pha...   \n",
       "1848     1-2  Warning Spoiler. . . I have to agree with you,...   \n",
       "19832   9-10  It's hard to top this movie in several ways. E...   \n",
       "\n",
       "                                     preprocessed_review  \\\n",
       "23637  it takes guts to make a movie on gandhi in ind...   \n",
       "12099  after watching awake i led to a conclusion dir...   \n",
       "13508  i can safely admit as an imdb geek that phanto...   \n",
       "1848   warning spoiler i have to agree with you it wa...   \n",
       "19832  it s hard to top this movie in several ways ev...   \n",
       "\n",
       "                                        tokenized_review  \\\n",
       "23637  [take, gut, make, movi, gandhi, india, shown, ...   \n",
       "12099  [watch, awak, led, conclus, director, screenwr...   \n",
       "13508  [safe, admit, imdb, geek, phantom, ladi, never...   \n",
       "1848   [warn, spoiler, agre, wa, almost, thi, wa, bad...   \n",
       "19832  [hard, top, thi, movi, sever, way, everyth, wo...   \n",
       "\n",
       "                                           string_review  \n",
       "23637  take gut make movi gandhi india shown man coul...  \n",
       "12099  watch awak led conclus director screenwrit job...  \n",
       "13508  safe admit imdb geek phantom ladi never crack ...  \n",
       "1848   warn spoiler agre wa almost thi wa bad movi in...  \n",
       "19832  hard top thi movi sever way everyth work reall...  "
      ]
     },
     "execution_count": 12,
     "metadata": {},
     "output_type": "execute_result"
    }
   ],
   "source": [
    "df_rating.head()"
   ]
  },
  {
   "cell_type": "markdown",
   "metadata": {},
   "source": [
    "Для обучения моделей я использовал модуль fasttext. Для него нужно преобразовать данные в формат: \"__label__{метка класса}{текст отзыва}\""
   ]
  },
  {
   "cell_type": "code",
   "execution_count": 13,
   "metadata": {},
   "outputs": [],
   "source": [
    "data_text_fast = df_rating.apply(lambda x: '__label__' + str(x['rating']) + ' ' + ''.join([str(x['string_review'])]), axis = 1)"
   ]
  },
  {
   "cell_type": "code",
   "execution_count": 14,
   "metadata": {},
   "outputs": [
    {
     "data": {
      "text/plain": [
       "23637    __label__9-10 take gut make movi gandhi india ...\n",
       "12099    __label__3-4 watch awak led conclus director s...\n",
       "13508    __label__7-8 safe admit imdb geek phantom ladi...\n",
       "1848     __label__1-2 warn spoiler agre wa almost thi w...\n",
       "19832    __label__9-10 hard top thi movi sever way ever...\n",
       "                               ...                        \n",
       "12266    __label__3-4 thi decent endeavor guy wrote scr...\n",
       "5446     __label__1-2 previous enjoy wesley snipe sever...\n",
       "18915    __label__9-10 friend pick paperhous random pil...\n",
       "13861    __label__7-8 lover bad movi definit hit paydir...\n",
       "6777     __label__1-2 nb spoiler warn first thi teen sl...\n",
       "Length: 25000, dtype: object"
      ]
     },
     "execution_count": 14,
     "metadata": {},
     "output_type": "execute_result"
    }
   ],
   "source": [
    "data_text_fast"
   ]
  },
  {
   "cell_type": "markdown",
   "metadata": {},
   "source": [
    "Сохраним наши данные в текстовый документ."
   ]
  },
  {
   "cell_type": "code",
   "execution_count": 15,
   "metadata": {},
   "outputs": [],
   "source": [
    "np.savetxt('data_fast_text.txt', data_text_fast, delimiter = ' ', fmt = '%s')"
   ]
  },
  {
   "cell_type": "markdown",
   "metadata": {},
   "source": [
    "Разобьем данные на тестовую и обучающую выборки в отношении 1:9"
   ]
  },
  {
   "cell_type": "code",
   "execution_count": 16,
   "metadata": {},
   "outputs": [],
   "source": [
    "test = data_text_fast[:int(len(data_text_fast)*.1)]\n",
    "train = data_text_fast[int(len(data_text_fast)*.1):]\n",
    "np.savetxt('train_fasttext.txt', train, delimiter = ' ', fmt = '%s')\n",
    "np.savetxt('test_fasttext.txt', test, delimiter = ' ', fmt = '%s')"
   ]
  },
  {
   "cell_type": "code",
   "execution_count": 17,
   "metadata": {},
   "outputs": [
    {
     "data": {
      "text/plain": [
       "20186    __label__9-10 remark quit praiseworthi writer ...\n",
       "24133    __label__9-10 rubi paradis beauti come age sto...\n",
       "5354     __label__1-2 gave 2 instead 1 aw becaus deni m...\n",
       "11960    __label__3-4 familiar trilog came upon thi fil...\n",
       "16523    __label__7-8 overshadow braveheart releas year...\n",
       "                               ...                        \n",
       "12266    __label__3-4 thi decent endeavor guy wrote scr...\n",
       "5446     __label__1-2 previous enjoy wesley snipe sever...\n",
       "18915    __label__9-10 friend pick paperhous random pil...\n",
       "13861    __label__7-8 lover bad movi definit hit paydir...\n",
       "6777     __label__1-2 nb spoiler warn first thi teen sl...\n",
       "Length: 22500, dtype: object"
      ]
     },
     "execution_count": 17,
     "metadata": {},
     "output_type": "execute_result"
    }
   ],
   "source": [
    "train"
   ]
  },
  {
   "cell_type": "markdown",
   "metadata": {},
   "source": [
    "#### Обучение модели"
   ]
  },
  {
   "cell_type": "markdown",
   "metadata": {},
   "source": [
    "Где epoch - это количество эпох (число раз, когда один и тот же объект встречается модели), wordNgrams - N_граммы, dim - размер эмбеддинга, bucket - количество строк, содержащих в себе эмбеддинги для каждой N-граммы символов."
   ]
  },
  {
   "cell_type": "code",
   "execution_count": 18,
   "metadata": {},
   "outputs": [],
   "source": [
    "model = fasttext.train_supervised(input='train_fasttext.txt', epoch=35, wordNgrams=3, bucket=300000, dim=50, loss='ova')    "
   ]
  },
  {
   "cell_type": "markdown",
   "metadata": {},
   "source": [
    "Сохраним нашу модель."
   ]
  },
  {
   "cell_type": "code",
   "execution_count": 19,
   "metadata": {},
   "outputs": [],
   "source": [
    "model.save_model(\"model_review_fasttext.bin\")"
   ]
  },
  {
   "cell_type": "markdown",
   "metadata": {},
   "source": [
    "#### Оценка точности полученного результата на тестовой выборке"
   ]
  },
  {
   "cell_type": "code",
   "execution_count": 20,
   "metadata": {},
   "outputs": [
    {
     "name": "stdout",
     "output_type": "stream",
     "text": [
      "(2500, 0.6556, 0.6556)\n"
     ]
    }
   ],
   "source": [
    "print(model.test(\"test_fasttext.txt\"))"
   ]
  },
  {
   "cell_type": "markdown",
   "metadata": {},
   "source": [
    "Итого точность (precision) нашей модели равна 0,64 ."
   ]
  },
  {
   "cell_type": "markdown",
   "metadata": {},
   "source": [
    "И еще несколько отзывов для оценки качества модели.\n",
    "Рейтинг отзыва обозначен цифрой после слова review."
   ]
  },
  {
   "cell_type": "code",
   "execution_count": 21,
   "metadata": {},
   "outputs": [
    {
     "name": "stdout",
     "output_type": "stream",
     "text": [
      "(('__label__7-8', '__label__3-4'), array([0.12253322, 0.10375863]))\n",
      "(('__label__1-2', '__label__3-4'), array([1.00001001e+00, 1.00000034e-05]))\n",
      "(('__label__9-10', '__label__7-8'), array([0.8808071 , 0.01799621]))\n",
      "(('__label__3-4', '__label__7-8'), array([0.69265199, 0.22271016]))\n",
      "(('__label__1-2', '__label__3-4'), array([0.45327184, 0.05185546]))\n",
      "(('__label__3-4', '__label__1-2'), array([0.99567848, 0.46880063]))\n",
      "(('__label__1-2', '__label__3-4'), array([7.49097228e-01, 1.00000034e-05]))\n",
      "(('__label__9-10', '__label__3-4'), array([1.00001001e+00, 1.00000034e-05]))\n"
     ]
    }
   ],
   "source": [
    "review_5 = \"Good production, quite intense, very interesting reenactment of a battle at sea, although I am not sure how realistic and accurate it is (those submarines liked to fight a lot in plain sight over the water, right?).My main issue? It was like a documentary, lots of battle time but no much human drama. No time given to develop any characters or even make us feel something about these people. Ships were sinking in the middle of the Atlantic and we never had a look in the horror of trying to survive this. Even Hank's character felt flat. The few scenes with his love interest were rather awkward and didn't contribute much. At one point we were wondering if the captain was in the spectrum or something..Still, if you are a fan of WWII movies I suggest to watch it for the unique perspective of a battle at sea.\"\n",
    "review_5 = preprocessor(review_5)\n",
    "review_5 = tokenizer_stemmer(review_5)\n",
    "review_5 = list_to_string(review_5)\n",
    "print(model.predict(review_5, k=2))\n",
    "\n",
    "review_1 = \"Very bad and disgusting film!\"\n",
    "review_1 = preprocessor(review_1)\n",
    "review_1 = tokenizer_stemmer(review_1)\n",
    "review_1 = list_to_string(review_1)\n",
    "print(model.predict(review_1, k=2))\n",
    "\n",
    "review_10 = \"This movie may not be for everyone, but as a Navy veteran who has stood watch in CIC this movie is very realistic. I loved that there wasn't a lot of back story. It was more about how lonely and arduous the job of a Navy captain is. Must watch!\"\n",
    "review_10 = preprocessor(review_10)\n",
    "review_10 = tokenizer_stemmer(review_10)\n",
    "review_10 = list_to_string(review_10)\n",
    "print(model.predict(review_10, k=2))\n",
    "\n",
    "review_6 = \"It was just OK which is reflected in my 6 star rating, which I think is generous. They made little effort at any sort of character development. Hanks has some sort of love interest that is hinted at, but that's it. I thought they were going to build some sort of bond between the captain and his Black cook, but that never got off the ground. We know almost nothing more about the man at the end than in the beginning.It's a difficult challenge to portray on film the battle between a destroyer and a submarine. This movie never really pulls that off, it's like listening to one side of a telephone conversation. The German U-boats never seem to be part of the narrative. They try to bring the U-boats in with their radio broadcasts which come across more as obscene phone calls than viable dialogue.Almost exactly half of the dialogue is sailors repeating orders. It got very tedious, very quickly. I thought they went too far in the whole \\\"navy talk\\\" department.I found the U-boat attack theme music to be mostly bothersome and heavy-handed, like death wail of a fat man, or a runner-up in Dumb and Dumber's most annoying sound in the world.The sea burial onboard was a moving tribute to our military dead. I couldn't imagine a better resting place than the open sea. I was air force and not really sure what we did. Threw bodies out the back of a C130? That'd be cool with me.\"\n",
    "review_6 = preprocessor(review_6)\n",
    "review_6 = tokenizer_stemmer(review_6)\n",
    "review_6 = list_to_string(review_6)\n",
    "print(model.predict(review_6, k=2))\n",
    "\n",
    "review_1 = \"A typical US movie boring would a German u-boat contact a us war ship ??? and all the rest again private ( hanks) movie not worth a second to watch ok maybe now with the virus nothing better on\"\n",
    "review_1 = preprocessor(review_1)\n",
    "review_1 = tokenizer_stemmer(review_1)\n",
    "review_1 = list_to_string(review_1)\n",
    "print(model.predict(review_1, k=2))\n",
    "\n",
    "review_2 = \"This movie was very disappointing, I really wanted to like it. But it was monotonous with 99% of the movie on the fighter ship fighting with a fake sounding loud sound effects. Gave me a headache, take a couple of aspirins if planing to watch it.\"\n",
    "review_2 = preprocessor(review_2)\n",
    "review_2 = tokenizer_stemmer(review_2)\n",
    "review_2 = list_to_string(review_2)\n",
    "print(model.predict(review_2, k=2))\n",
    "\n",
    "review_1 = \"movie is disgusting\"\n",
    "review_1 = preprocessor(review_1)\n",
    "review_1 = tokenizer_stemmer(review_1)\n",
    "review_1 = list_to_string(review_1)\n",
    "print(model.predict(review_1, k=2))\n",
    "\n",
    "review_10 = \"movie great awesome\"\n",
    "review_10 = preprocessor(review_10)\n",
    "review_10 = tokenizer_stemmer(review_10)\n",
    "review_10 = list_to_string(review_10)\n",
    "print(model.predict(review_10, k=2))"
   ]
  },
  {
   "cell_type": "markdown",
   "metadata": {},
   "source": [
    "Видно, что классификатор работает точно.\n",
    "В случае ошибок, он также указывает класс, в котором должен быть отзыв(Второе значение в первом кортеже).\n",
    "Так же в данных отсутствуют классы 5 и 6. И отзывы этих классов отсосятся либо к 3-4 либо к 7-8."
   ]
  },
  {
   "cell_type": "markdown",
   "metadata": {},
   "source": [
    "#### Бинарная классификация"
   ]
  },
  {
   "cell_type": "markdown",
   "metadata": {},
   "source": [
    "Задача состоит в том, чтобы классифицировать отзывы на 2 класса: positive, negative."
   ]
  },
  {
   "cell_type": "markdown",
   "metadata": {},
   "source": [
    "#### Загрузка данных"
   ]
  },
  {
   "cell_type": "code",
   "execution_count": 22,
   "metadata": {},
   "outputs": [],
   "source": [
    "def sorter_sentiment(paths): # функция сортирующая отзывы в папках в словарь reviews_sentiment\n",
    "    reviews_sentiment = {'__label__0': [], '__label__1': []}\n",
    "    for path in paths:\n",
    "        if path == 'neg_train' or path == 'neg':\n",
    "            for rating in range(1, 5):\n",
    "                corpus = PlaintextCorpusReader(path, '.*\\_{}.txt'.format(rating), encoding='utf-8')\n",
    "                names = corpus.fileids()\n",
    "                for name in names:\n",
    "                    file = open(path + f\"/{name}\")\n",
    "                    text = file.read()\n",
    "                    reviews_sentiment['__label__0'].append(text)\n",
    "        elif path == \"pos_train\" or path == 'pos':\n",
    "            for rating in range(7, 11):\n",
    "                corpus = PlaintextCorpusReader(path, '.*\\_{}.txt'.format(rating), encoding='utf-8')\n",
    "                names = corpus.fileids()\n",
    "                for name in names:\n",
    "                    file = open(path + f\"/{name}\")\n",
    "                    text = file.read()\n",
    "                    reviews_sentiment['__label__1'].append(text)\n",
    "    return reviews_sentiment"
   ]
  },
  {
   "cell_type": "code",
   "execution_count": 23,
   "metadata": {},
   "outputs": [],
   "source": [
    "paths = ['train_neg', 'train_pos', 'pos', 'neg']\n",
    "reviews_sentiment = sorter_sentiment(paths)"
   ]
  },
  {
   "cell_type": "markdown",
   "metadata": {},
   "source": [
    "#### Знакомство с данными и их предобработка"
   ]
  },
  {
   "cell_type": "markdown",
   "metadata": {},
   "source": [
    "Преобразуем слова reviews_rating в Dataframe df_sentiment. Так как содержимое Dataframe сортировано по строкам, перемешаем строки."
   ]
  },
  {
   "cell_type": "code",
   "execution_count": 24,
   "metadata": {},
   "outputs": [],
   "source": [
    "df_sentiment = shuffle(pd.DataFrame([(key, var) for (key, L) in reviews_sentiment.items() for var in L], \n",
    "                 columns=['sentiment', 'review']))"
   ]
  },
  {
   "cell_type": "markdown",
   "metadata": {},
   "source": [
    "Сохраним полученный Dataframe в csv файл."
   ]
  },
  {
   "cell_type": "code",
   "execution_count": 25,
   "metadata": {},
   "outputs": [],
   "source": [
    "df_sentiment.to_csv('df_sentiment.csv')"
   ]
  },
  {
   "cell_type": "markdown",
   "metadata": {},
   "source": [
    "Обработаем Dataframe."
   ]
  },
  {
   "cell_type": "code",
   "execution_count": 48,
   "metadata": {},
   "outputs": [],
   "source": [
    "df_sentiment['preprocessed_review'] = df_sentiment.review.apply(preprocessor)"
   ]
  },
  {
   "cell_type": "code",
   "execution_count": 49,
   "metadata": {},
   "outputs": [
    {
     "data": {
      "text/html": [
       "<div>\n",
       "<style scoped>\n",
       "    .dataframe tbody tr th:only-of-type {\n",
       "        vertical-align: middle;\n",
       "    }\n",
       "\n",
       "    .dataframe tbody tr th {\n",
       "        vertical-align: top;\n",
       "    }\n",
       "\n",
       "    .dataframe thead th {\n",
       "        text-align: right;\n",
       "    }\n",
       "</style>\n",
       "<table border=\"1\" class=\"dataframe\">\n",
       "  <thead>\n",
       "    <tr style=\"text-align: right;\">\n",
       "      <th></th>\n",
       "      <th>sentiment</th>\n",
       "      <th>review</th>\n",
       "      <th>preprocessed_review</th>\n",
       "      <th>tokenized_review</th>\n",
       "      <th>string_review</th>\n",
       "    </tr>\n",
       "  </thead>\n",
       "  <tbody>\n",
       "    <tr>\n",
       "      <th>2832</th>\n",
       "      <td>__label__0</td>\n",
       "      <td>99.999% pure crap. And the other .001% was a b...</td>\n",
       "      <td>99 999 pure crap and the other 001 was a brief...</td>\n",
       "      <td>[99, 999, pure, crap, 001, wa, brief, moment, ...</td>\n",
       "      <td>99 999 pure crap 001 wa brief moment thought b...</td>\n",
       "    </tr>\n",
       "    <tr>\n",
       "      <th>23477</th>\n",
       "      <td>__label__1</td>\n",
       "      <td>Idiotic hack crooks, a babe, a safe, a plan an...</td>\n",
       "      <td>idiotic hack crooks a babe a safe a plan and a...</td>\n",
       "      <td>[idiot, hack, crook, babe, safe, plan, babi, a...</td>\n",
       "      <td>idiot hack crook babe safe plan babi add get b...</td>\n",
       "    </tr>\n",
       "    <tr>\n",
       "      <th>19864</th>\n",
       "      <td>__label__1</td>\n",
       "      <td>H.G. Wells in 1936 was past his prime and the ...</td>\n",
       "      <td>h g wells in 1936 was past his prime and the b...</td>\n",
       "      <td>[h, g, well, 1936, wa, past, hi, prime, book, ...</td>\n",
       "      <td>h g well 1936 wa past hi prime book hi surviv ...</td>\n",
       "    </tr>\n",
       "    <tr>\n",
       "      <th>15516</th>\n",
       "      <td>__label__1</td>\n",
       "      <td>While I had wanted to se this film since the f...</td>\n",
       "      <td>while i had wanted to se this film since the f...</td>\n",
       "      <td>[want, se, thi, film, sinc, first, time, watch...</td>\n",
       "      <td>want se thi film sinc first time watch trailer...</td>\n",
       "    </tr>\n",
       "    <tr>\n",
       "      <th>7173</th>\n",
       "      <td>__label__0</td>\n",
       "      <td>I had a really hard time making it through thi...</td>\n",
       "      <td>i had a really hard time making it through thi...</td>\n",
       "      <td>[realli, hard, time, make, thi, move, wa, exte...</td>\n",
       "      <td>realli hard time make thi move wa extermli slo...</td>\n",
       "    </tr>\n",
       "    <tr>\n",
       "      <th>...</th>\n",
       "      <td>...</td>\n",
       "      <td>...</td>\n",
       "      <td>...</td>\n",
       "      <td>...</td>\n",
       "      <td>...</td>\n",
       "    </tr>\n",
       "    <tr>\n",
       "      <th>14574</th>\n",
       "      <td>__label__1</td>\n",
       "      <td>Clint Eastwood reprises his role as Dirty Harr...</td>\n",
       "      <td>clint eastwood reprises his role as dirty harr...</td>\n",
       "      <td>[clint, eastwood, repris, hi, role, dirti, har...</td>\n",
       "      <td>clint eastwood repris hi role dirti harri thi ...</td>\n",
       "    </tr>\n",
       "    <tr>\n",
       "      <th>13332</th>\n",
       "      <td>__label__1</td>\n",
       "      <td>I actually like the original, and this film ha...</td>\n",
       "      <td>i actually like the original and this film has...</td>\n",
       "      <td>[actual, like, origin, thi, film, ha, origin, ...</td>\n",
       "      <td>actual like origin thi film ha origin voic cas...</td>\n",
       "    </tr>\n",
       "    <tr>\n",
       "      <th>6777</th>\n",
       "      <td>__label__0</td>\n",
       "      <td>((NB: Spoiler warning, such as it is!))&lt;br /&gt;&lt;...</td>\n",
       "      <td>nb spoiler warning such as it is first off th...</td>\n",
       "      <td>[nb, spoiler, warn, first, thi, teen, slasher,...</td>\n",
       "      <td>nb spoiler warn first thi teen slasher flick s...</td>\n",
       "    </tr>\n",
       "    <tr>\n",
       "      <th>15169</th>\n",
       "      <td>__label__1</td>\n",
       "      <td>SPOILERS Many different comedy series nowadays...</td>\n",
       "      <td>spoilers many different comedy series nowadays...</td>\n",
       "      <td>[spoiler, mani, differ, comedi, seri, nowaday,...</td>\n",
       "      <td>spoiler mani differ comedi seri nowaday one po...</td>\n",
       "    </tr>\n",
       "    <tr>\n",
       "      <th>16343</th>\n",
       "      <td>__label__1</td>\n",
       "      <td>A fine story about following your dreams and a...</td>\n",
       "      <td>a fine story about following your dreams and a...</td>\n",
       "      <td>[fine, stori, follow, dream, actual, take, sta...</td>\n",
       "      <td>fine stori follow dream actual take stab somet...</td>\n",
       "    </tr>\n",
       "  </tbody>\n",
       "</table>\n",
       "<p>25000 rows × 5 columns</p>\n",
       "</div>"
      ],
      "text/plain": [
       "        sentiment                                             review  \\\n",
       "2832   __label__0  99.999% pure crap. And the other .001% was a b...   \n",
       "23477  __label__1  Idiotic hack crooks, a babe, a safe, a plan an...   \n",
       "19864  __label__1  H.G. Wells in 1936 was past his prime and the ...   \n",
       "15516  __label__1  While I had wanted to se this film since the f...   \n",
       "7173   __label__0  I had a really hard time making it through thi...   \n",
       "...           ...                                                ...   \n",
       "14574  __label__1  Clint Eastwood reprises his role as Dirty Harr...   \n",
       "13332  __label__1  I actually like the original, and this film ha...   \n",
       "6777   __label__0  ((NB: Spoiler warning, such as it is!))<br /><...   \n",
       "15169  __label__1  SPOILERS Many different comedy series nowadays...   \n",
       "16343  __label__1  A fine story about following your dreams and a...   \n",
       "\n",
       "                                     preprocessed_review  \\\n",
       "2832   99 999 pure crap and the other 001 was a brief...   \n",
       "23477  idiotic hack crooks a babe a safe a plan and a...   \n",
       "19864  h g wells in 1936 was past his prime and the b...   \n",
       "15516  while i had wanted to se this film since the f...   \n",
       "7173   i had a really hard time making it through thi...   \n",
       "...                                                  ...   \n",
       "14574  clint eastwood reprises his role as dirty harr...   \n",
       "13332  i actually like the original and this film has...   \n",
       "6777    nb spoiler warning such as it is first off th...   \n",
       "15169  spoilers many different comedy series nowadays...   \n",
       "16343  a fine story about following your dreams and a...   \n",
       "\n",
       "                                        tokenized_review  \\\n",
       "2832   [99, 999, pure, crap, 001, wa, brief, moment, ...   \n",
       "23477  [idiot, hack, crook, babe, safe, plan, babi, a...   \n",
       "19864  [h, g, well, 1936, wa, past, hi, prime, book, ...   \n",
       "15516  [want, se, thi, film, sinc, first, time, watch...   \n",
       "7173   [realli, hard, time, make, thi, move, wa, exte...   \n",
       "...                                                  ...   \n",
       "14574  [clint, eastwood, repris, hi, role, dirti, har...   \n",
       "13332  [actual, like, origin, thi, film, ha, origin, ...   \n",
       "6777   [nb, spoiler, warn, first, thi, teen, slasher,...   \n",
       "15169  [spoiler, mani, differ, comedi, seri, nowaday,...   \n",
       "16343  [fine, stori, follow, dream, actual, take, sta...   \n",
       "\n",
       "                                           string_review  \n",
       "2832   99 999 pure crap 001 wa brief moment thought b...  \n",
       "23477  idiot hack crook babe safe plan babi add get b...  \n",
       "19864  h g well 1936 wa past hi prime book hi surviv ...  \n",
       "15516  want se thi film sinc first time watch trailer...  \n",
       "7173   realli hard time make thi move wa extermli slo...  \n",
       "...                                                  ...  \n",
       "14574  clint eastwood repris hi role dirti harri thi ...  \n",
       "13332  actual like origin thi film ha origin voic cas...  \n",
       "6777   nb spoiler warn first thi teen slasher flick s...  \n",
       "15169  spoiler mani differ comedi seri nowaday one po...  \n",
       "16343  fine stori follow dream actual take stab somet...  \n",
       "\n",
       "[25000 rows x 5 columns]"
      ]
     },
     "execution_count": 49,
     "metadata": {},
     "output_type": "execute_result"
    }
   ],
   "source": [
    "df_sentiment"
   ]
  },
  {
   "cell_type": "markdown",
   "metadata": {},
   "source": [
    "Приведем данные в формат для fasttext."
   ]
  },
  {
   "cell_type": "code",
   "execution_count": 50,
   "metadata": {},
   "outputs": [],
   "source": [
    "data_text_fast_sentiment = df_sentiment.apply(lambda x: x['sentiment'] + ' ' + ''.join([str(x['preprocessed_review'])]), axis = 1)"
   ]
  },
  {
   "cell_type": "code",
   "execution_count": 51,
   "metadata": {},
   "outputs": [
    {
     "data": {
      "text/plain": [
       "2832     __label__0 99 999 pure crap and the other 001 ...\n",
       "23477    __label__1 idiotic hack crooks a babe a safe a...\n",
       "19864    __label__1 h g wells in 1936 was past his prim...\n",
       "15516    __label__1 while i had wanted to se this film ...\n",
       "7173     __label__0 i had a really hard time making it ...\n",
       "                               ...                        \n",
       "14574    __label__1 clint eastwood reprises his role as...\n",
       "13332    __label__1 i actually like the original and th...\n",
       "6777     __label__0  nb spoiler warning such as it is f...\n",
       "15169    __label__1 spoilers many different comedy seri...\n",
       "16343    __label__1 a fine story about following your d...\n",
       "Length: 25000, dtype: object"
      ]
     },
     "execution_count": 51,
     "metadata": {},
     "output_type": "execute_result"
    }
   ],
   "source": [
    "data_text_fast_sentiment"
   ]
  },
  {
   "cell_type": "markdown",
   "metadata": {},
   "source": [
    "Сохраним наши данные в текстовый документ."
   ]
  },
  {
   "cell_type": "code",
   "execution_count": 52,
   "metadata": {},
   "outputs": [],
   "source": [
    "np.savetxt('data_fast_text_sentiment.txt', data_text_fast_sentiment, delimiter = ' ', fmt = '%s')"
   ]
  },
  {
   "cell_type": "markdown",
   "metadata": {},
   "source": [
    "Разобьем данные на тестовую и обучающую выборки в отношении 1:9."
   ]
  },
  {
   "cell_type": "code",
   "execution_count": 53,
   "metadata": {},
   "outputs": [],
   "source": [
    "test_sentiment = data_text_fast_sentiment[:int(len(data_text_fast_sentiment)*.1)]\n",
    "train_sentiment = data_text_fast_sentiment[int(len(data_text_fast_sentiment)*.1):]\n",
    "np.savetxt('train_fasttext_sentiment.txt', train_sentiment, delimiter = ' ', fmt = '%s')\n",
    "np.savetxt('test_fasttext_sentiment.txt', test_sentiment, delimiter = ' ', fmt = '%s')"
   ]
  },
  {
   "cell_type": "code",
   "execution_count": 54,
   "metadata": {},
   "outputs": [
    {
     "data": {
      "text/plain": [
       "2832     __label__0 99 999 pure crap and the other 001 ...\n",
       "23477    __label__1 idiotic hack crooks a babe a safe a...\n",
       "19864    __label__1 h g wells in 1936 was past his prim...\n",
       "15516    __label__1 while i had wanted to se this film ...\n",
       "7173     __label__0 i had a really hard time making it ...\n",
       "                               ...                        \n",
       "23581    __label__1 my wife and i have watched this who...\n",
       "7775     __label__0 this movie is little more than poor...\n",
       "22920    __label__1 this is the second baby burlesk sho...\n",
       "1237     __label__0 thanks to this film i now can answe...\n",
       "12564    __label__1 in the spirit of the classic the st...\n",
       "Length: 2500, dtype: object"
      ]
     },
     "execution_count": 54,
     "metadata": {},
     "output_type": "execute_result"
    }
   ],
   "source": [
    "test_sentiment"
   ]
  },
  {
   "cell_type": "code",
   "execution_count": 55,
   "metadata": {},
   "outputs": [
    {
     "data": {
      "text/plain": [
       "4836     __label__0 it is very unfortunate when a movie...\n",
       "13652    __label__1 didn t know anything about the movi...\n",
       "16365    __label__1 this was a good movie it wasn t you...\n",
       "7502     __label__0 you can give jms and the boys a pas...\n",
       "19205    __label__1 jackie chan is considered by many f...\n",
       "                               ...                        \n",
       "14574    __label__1 clint eastwood reprises his role as...\n",
       "13332    __label__1 i actually like the original and th...\n",
       "6777     __label__0  nb spoiler warning such as it is f...\n",
       "15169    __label__1 spoilers many different comedy seri...\n",
       "16343    __label__1 a fine story about following your d...\n",
       "Length: 22500, dtype: object"
      ]
     },
     "execution_count": 55,
     "metadata": {},
     "output_type": "execute_result"
    }
   ],
   "source": [
    "train_sentiment"
   ]
  },
  {
   "cell_type": "markdown",
   "metadata": {},
   "source": [
    "#### Обучение модели"
   ]
  },
  {
   "cell_type": "code",
   "execution_count": 56,
   "metadata": {},
   "outputs": [],
   "source": [
    "model_sentiment = fasttext.train_supervised(input='train_fasttext_sentiment.txt', epoch=33, wordNgrams=3, bucket=300000, dim=25, loss='ova') "
   ]
  },
  {
   "cell_type": "markdown",
   "metadata": {},
   "source": [
    "Сохраним нашу модель."
   ]
  },
  {
   "cell_type": "code",
   "execution_count": 59,
   "metadata": {},
   "outputs": [],
   "source": [
    "model_sentiment.save_model(\"model_review_fasttext_sentiment.bin\")"
   ]
  },
  {
   "cell_type": "markdown",
   "metadata": {},
   "source": [
    "#### Оценка точности полученного результата на тестовой выборке"
   ]
  },
  {
   "cell_type": "code",
   "execution_count": 57,
   "metadata": {},
   "outputs": [
    {
     "name": "stdout",
     "output_type": "stream",
     "text": [
      "(2500, 0.8964, 0.8964)\n"
     ]
    }
   ],
   "source": [
    "print(model_sentiment.test(\"test_fasttext_sentiment.txt\"))"
   ]
  },
  {
   "cell_type": "markdown",
   "metadata": {},
   "source": [
    "Итого точность (precision) нашей модели равна 0,89."
   ]
  },
  {
   "cell_type": "markdown",
   "metadata": {},
   "source": [
    "И еще несколько отзывов для оценки качества модели. Статус отзыва обозначен после слова rev."
   ]
  },
  {
   "cell_type": "code",
   "execution_count": 58,
   "metadata": {},
   "outputs": [
    {
     "name": "stdout",
     "output_type": "stream",
     "text": [
      "(('__label__1',), array([1.00001001]))\n",
      "(('__label__0',), array([0.98309511]))\n",
      "(('__label__1',), array([1.00001001]))\n",
      "(('__label__1',), array([1.00001001]))\n",
      "(('__label__0',), array([1.00001001]))\n"
     ]
    }
   ],
   "source": [
    "rev_pos = 'What an excellent film by Rian Johnson; definitely feels like the film he was destined to make. Writing that is slick as hell, sublime performances (most notably Daniel Craig who brings his A-game in a wonderfully charismatic turn), superb editing and wonderfully atmospheric music - all tied together by masterful direction. Will probably be among the most fun you have at a theatre this year and fans of Agatha Christie and old murder mystery stories will have plenty to love here - a nostalgically entertaining time!'\n",
    "rev_pos = preprocessor(rev_pos)\n",
    "print(model_sentiment.predict(rev_pos))\n",
    "\n",
    "rev_neg = \"Although this show is very highly rated I couldn't force myself to keep watching after a few episodes simply because of the way the actors talk. I wouldn't even say the acting is bad, the characters just can't keep up with all this dark, cold and mysterious plot. The people are all equally dark, cold and mysterious and that's just not the way people are or at least behave. For Non-German audience it is probably easier to get into but the show is set in Germany in German language. And no one here talks that way, like an emotionless robot (maybe that's the way we are seen by the world but it's not true). So every dialogue of the show reminded me just how different and stylish it wants to be, completely forgetting human depth or even basic human feelings (when you begin to ask yourself if there is any character capable of loving, even if it's just their family members, you know there is something wrong).\"\n",
    "rev_neg = preprocessor(rev_neg)\n",
    "print(model_sentiment.predict(rev_neg))\n",
    "\n",
    "rev_pos = \"This feedback is currently based on the first 10 episodes of season one (still watching the series as we speak), and to be honest it made me downgrade my rating for 'Stranger Things' quite a bit. It's clear that this series is the child of a genius - everything just works. The acting is great, the cinematography is great, the soundtrack is awesome (reminds me of Klaus Schulze at times), and the story-line is mind-boggling. This series is just miles above anything that leaves Hollywood. Wish that all productions could be like this. Thanks Netflix for bringing this awesome series to me screen. Say bye-bye to public television!\"\n",
    "rev_pos = preprocessor(rev_pos)\n",
    "print(model_sentiment.predict(rev_pos))\n",
    "\n",
    "rev_pos = \"This movie is good\"\n",
    "rev_pos = preprocessor(rev_pos)\n",
    "print(model_sentiment.predict(rev_pos))\n",
    "\n",
    "rev_neg = \"This is truly the most garbage movie I've ever seen. As a film student, I have no idea what this director was doing as he put this maseceure together. The shots are random and unmotivated, even for a comedy. I love comedies and Andy Samberg, but the writing is so awful. I don't see how a writer could be happy showing this to anyone, and the producers must of been so eager for a script that they couldn't recognize how terrible it is. The editing and sound mixing look like they've been done by amateurs. Besides the few creative cinematic shots and the three or four decent lines of dialogue, there's absolutely nothing good about this film and anyone who things this is great must have a very low intellect and appreciation of good films.\"\n",
    "rev_neg = preprocessor(rev_neg)\n",
    "print(model_sentiment.predict(rev_neg))"
   ]
  },
  {
   "cell_type": "markdown",
   "metadata": {},
   "source": [
    "Видно, что бинарный классификатор работает точно."
   ]
  },
  {
   "cell_type": "markdown",
   "metadata": {},
   "source": [
    "# -----------------//-----------------"
   ]
  },
  {
   "cell_type": "markdown",
   "metadata": {},
   "source": [
    "## Веб-сервис"
   ]
  },
  {
   "cell_type": "markdown",
   "metadata": {},
   "source": [
    "#### Разработка веб-сервиса"
   ]
  },
  {
   "cell_type": "markdown",
   "metadata": {},
   "source": [
    "С помощью фреймворка Django и облачного сервиса Heroku был реализован веб-сервис для ввода отзыва о фильме с автоматическим присвоением рейтинга (от 1 до 10) и статуса комментария (положительный или отрицательный)."
   ]
  },
  {
   "cell_type": "markdown",
   "metadata": {},
   "source": [
    "Исходный код проекта можно посмотреть на github."
   ]
  },
  {
   "cell_type": "markdown",
   "metadata": {},
   "source": [
    "Приложение было создано с помощью облачного сервиса Heroku"
   ]
  },
  {
   "cell_type": "markdown",
   "metadata": {},
   "source": [
    "### Ссылка на Github:"
   ]
  },
  {
   "cell_type": "code",
   "execution_count": null,
   "metadata": {},
   "outputs": [],
   "source": []
  },
  {
   "cell_type": "markdown",
   "metadata": {},
   "source": [
    "### Ссылка на прототип:"
   ]
  },
  {
   "cell_type": "markdown",
   "metadata": {},
   "source": [
    "https://reviewclassifier-withdjango.herokuapp.com"
   ]
  }
 ],
 "metadata": {
  "kernelspec": {
   "display_name": "venv",
   "language": "python",
   "name": "venv"
  },
  "language_info": {
   "codemirror_mode": {
    "name": "ipython",
    "version": 3
   },
   "file_extension": ".py",
   "mimetype": "text/x-python",
   "name": "python",
   "nbconvert_exporter": "python",
   "pygments_lexer": "ipython3",
   "version": "3.8.5"
  }
 },
 "nbformat": 4,
 "nbformat_minor": 4
}
