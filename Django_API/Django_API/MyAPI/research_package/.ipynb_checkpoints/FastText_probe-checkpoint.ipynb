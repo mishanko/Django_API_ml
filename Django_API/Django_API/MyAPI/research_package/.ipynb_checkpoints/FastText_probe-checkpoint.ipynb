{
 "cells": [
  {
   "cell_type": "code",
   "execution_count": 1,
   "metadata": {},
   "outputs": [],
   "source": [
    "import pandas as pd\n",
    "import numpy as np\n",
    "import fasttext\n",
    "from tqdm import tqdm\n",
    "import re\n",
    "import string\n",
    "from sklearn.utils import shuffle\n",
    "from nltk.corpus import PlaintextCorpusReader"
   ]
  },
  {
   "cell_type": "code",
   "execution_count": 1,
   "metadata": {},
   "outputs": [
    {
     "name": "stdout",
     "output_type": "stream",
     "text": [
      "Collecting package metadata (current_repodata.json): done\n",
      "Solving environment: done\n",
      "\n",
      "## Package Plan ##\n",
      "\n",
      "  environment location: /Users/mihailmihaylov/opt/anaconda3/envs/learner\n",
      "\n",
      "  added / updated specs:\n",
      "    - django\n",
      "\n",
      "\n",
      "The following packages will be downloaded:\n",
      "\n",
      "    package                    |            build\n",
      "    ---------------------------|-----------------\n",
      "    asgiref-3.2.10             |             py_0          20 KB\n",
      "    django-3.0.3               |             py_0         2.9 MB\n",
      "    sqlparse-0.3.1             |             py_0          34 KB\n",
      "    ------------------------------------------------------------\n",
      "                                           Total:         3.0 MB\n",
      "\n",
      "The following NEW packages will be INSTALLED:\n",
      "\n",
      "  asgiref            pkgs/main/noarch::asgiref-3.2.10-py_0\n",
      "  django             pkgs/main/noarch::django-3.0.3-py_0\n",
      "  sqlparse           pkgs/main/noarch::sqlparse-0.3.1-py_0\n",
      "\n",
      "\n",
      "\n",
      "Downloading and Extracting Packages\n",
      "django-3.0.3         | 2.9 MB    | ##################################### | 100% \n",
      "asgiref-3.2.10       | 20 KB     | ##################################### | 100% \n",
      "sqlparse-0.3.1       | 34 KB     | ##################################### | 100% \n",
      "Preparing transaction: done\n",
      "Verifying transaction: done\n",
      "Executing transaction: done\n",
      "\n",
      "Note: you may need to restart the kernel to use updated packages.\n"
     ]
    }
   ],
   "source": [
    "conda install django"
   ]
  },
  {
   "cell_type": "code",
   "execution_count": 2,
   "metadata": {},
   "outputs": [],
   "source": [
    "def sorter(paths):\n",
    "    reviews = {'1-2':[], \"3-4\":[], \"7-8\":[], \"9-10\":[]}\n",
    "    for path in paths:\n",
    "        if path == 'neg_train':\n",
    "            for rating in range(1, 5):\n",
    "                corpus = PlaintextCorpusReader(path, '.*\\_{}.txt'.format(rating), encoding='utf-8')\n",
    "                names = corpus.fileids()\n",
    "                for name in names:\n",
    "                    file = open(path + f\"/{name}\")\n",
    "                    text = file.read()\n",
    "                    if rating == 1 or rating == 2:\n",
    "                        reviews[\"1-2\"].append(text)\n",
    "                    if rating == 3 or rating == 4:\n",
    "                        reviews[\"3-4\"].append(text)\n",
    "        elif path == \"pos_train\":\n",
    "            for rating in range(7, 11):\n",
    "                corpus = PlaintextCorpusReader(path, '.*\\_{}.txt'.format(rating), encoding='utf-8')\n",
    "                names = corpus.fileids()\n",
    "                for name in names:\n",
    "                    file = open(path + f\"/{name}\")\n",
    "                    text = file.read()\n",
    "                    if rating == 7 or rating == 8:\n",
    "                        reviews[\"7-8\"].append(text)\n",
    "                    if rating == 9 or rating == 10:\n",
    "                        reviews[\"9-10\"].append(text)\n",
    "                    \n",
    "    return reviews"
   ]
  },
  {
   "cell_type": "code",
   "execution_count": 3,
   "metadata": {},
   "outputs": [],
   "source": [
    "paths = ['neg_train', 'pos_train', 'pos', 'neg']\n",
    "reviews_rating = sorter(paths)"
   ]
  },
  {
   "cell_type": "code",
   "execution_count": 4,
   "metadata": {},
   "outputs": [],
   "source": [
    "df_main_rating = pd.DataFrame([(key, var) for (key, L) in reviews_rating.items() for var in L], \n",
    "                 columns=['rating', 'review'])"
   ]
  },
  {
   "cell_type": "code",
   "execution_count": 5,
   "metadata": {},
   "outputs": [],
   "source": [
    "df_main_rating_shuffled = shuffle(df_main_rating)"
   ]
  },
  {
   "cell_type": "code",
   "execution_count": 6,
   "metadata": {},
   "outputs": [],
   "source": [
    "df_main_rating_shuffled.to_csv('df_rating_doubled.csv')"
   ]
  },
  {
   "cell_type": "code",
   "execution_count": 7,
   "metadata": {},
   "outputs": [
    {
     "data": {
      "text/plain": [
       "'this is a test :) :('"
      ]
     },
     "execution_count": 7,
     "metadata": {},
     "output_type": "execute_result"
    }
   ],
   "source": [
    "import re\n",
    "def preprocessor(text):\n",
    "    text =re.sub('<[^>]*>', '', text)\n",
    "    emoticons = re.findall('(?::|;|=)(?:-)?(?:\\)|\\(|D|P)', text)\n",
    "    text = re.sub('[\\W]+', ' ', text.lower()) + ' '.join(emoticons).replace('-', '')\n",
    "    return text\n",
    "\n",
    "preprocessor(\"This is a :) test :-( !\")"
   ]
  },
  {
   "cell_type": "code",
   "execution_count": 8,
   "metadata": {},
   "outputs": [],
   "source": [
    "df_main_rating_shuffled.review = df_main_rating_shuffled.review.apply(preprocessor)"
   ]
  },
  {
   "cell_type": "code",
   "execution_count": 9,
   "metadata": {},
   "outputs": [],
   "source": [
    "data_text_fast = df_main_rating_shuffled.apply(lambda x: '__label__' + str(x['rating']) + ' ' + ''.join([str(x['review'])]), axis = 1)"
   ]
  },
  {
   "cell_type": "code",
   "execution_count": 10,
   "metadata": {},
   "outputs": [
    {
     "data": {
      "text/plain": [
       "12958    __label__7-8 i think this movie got a low rati...\n",
       "792      __label__1-2 i saw this movie at the edmonton ...\n",
       "9564     __label__3-4 the prophecy ii what s there to s...\n",
       "12695    __label__7-8 this movie isn t as bad as i hear...\n",
       "19075    __label__9-10 this movie was absolutely wonder...\n",
       "                               ...                        \n",
       "24475    __label__9-10 saw this movie on its release an...\n",
       "20420    __label__9-10 i have to agree with mr caruso j...\n",
       "3332     __label__1-2 there are three kinds of bad film...\n",
       "7921     __label__3-4 this movie could have been 15 min...\n",
       "24293    __label__9-10 my kasi lemmings certainly is a ...\n",
       "Length: 25000, dtype: object"
      ]
     },
     "execution_count": 10,
     "metadata": {},
     "output_type": "execute_result"
    }
   ],
   "source": [
    "data_text_fast"
   ]
  },
  {
   "cell_type": "code",
   "execution_count": 11,
   "metadata": {},
   "outputs": [],
   "source": [
    "np.savetxt('data_fast_text.txt', data_text_fast, delimiter = ' ', fmt = '%s')"
   ]
  },
  {
   "cell_type": "code",
   "execution_count": 12,
   "metadata": {},
   "outputs": [],
   "source": [
    "test = data_text_fast[:int(len(data_text_fast)*.1)]\n",
    "train = data_text_fast[int(len(data_text_fast)*.1):]\n",
    "np.savetxt('train.txt', train, delimiter = ' ', fmt = '%s')\n",
    "np.savetxt('test.txt', test, delimiter = ' ', fmt = '%s')"
   ]
  },
  {
   "cell_type": "code",
   "execution_count": 13,
   "metadata": {},
   "outputs": [
    {
     "data": {
      "text/plain": [
       "10755    __label__3-4 the king maker will doubtless be ...\n",
       "8959     __label__3-4 wow what can i say about this fil...\n",
       "20620    __label__9-10 i m 60 years old a guitarist lea...\n",
       "22250    __label__9-10 i saw soylent green back in 1973...\n",
       "15943    __label__7-8 from the upper shelf of great cla...\n",
       "                               ...                        \n",
       "24475    __label__9-10 saw this movie on its release an...\n",
       "20420    __label__9-10 i have to agree with mr caruso j...\n",
       "3332     __label__1-2 there are three kinds of bad film...\n",
       "7921     __label__3-4 this movie could have been 15 min...\n",
       "24293    __label__9-10 my kasi lemmings certainly is a ...\n",
       "Length: 22500, dtype: object"
      ]
     },
     "execution_count": 13,
     "metadata": {},
     "output_type": "execute_result"
    }
   ],
   "source": [
    "train"
   ]
  },
  {
   "cell_type": "code",
   "execution_count": 9,
   "metadata": {
    "collapsed": true,
    "jupyter": {
     "outputs_hidden": true
    }
   },
   "outputs": [
    {
     "name": "stdout",
     "output_type": "stream",
     "text": [
      "Help on module fasttext.FastText in fasttext:\n",
      "\n",
      "NAME\n",
      "    fasttext.FastText\n",
      "\n",
      "DESCRIPTION\n",
      "    # Copyright (c) 2017-present, Facebook, Inc.\n",
      "    # All rights reserved.\n",
      "    #\n",
      "    # This source code is licensed under the MIT license found in the\n",
      "    # LICENSE file in the root directory of this source tree.\n",
      "\n",
      "FUNCTIONS\n",
      "    cbow(*kargs, **kwargs)\n",
      "    \n",
      "    eprint(*args, **kwargs)\n",
      "    \n",
      "    load_model(path)\n",
      "        Load a model given a filepath and return a model object.\n",
      "    \n",
      "    read_args(arg_list, arg_dict, arg_names, default_values)\n",
      "    \n",
      "    skipgram(*kargs, **kwargs)\n",
      "    \n",
      "    supervised(*kargs, **kwargs)\n",
      "    \n",
      "    tokenize(text)\n",
      "        Given a string of text, tokenize it and return a list of tokens\n",
      "    \n",
      "    train_supervised(*kargs, **kwargs)\n",
      "        Train a supervised model and return a model object.\n",
      "        \n",
      "        input must be a filepath. The input text does not need to be tokenized\n",
      "        as per the tokenize function, but it must be preprocessed and encoded\n",
      "        as UTF-8. You might want to consult standard preprocessing scripts such\n",
      "        as tokenizer.perl mentioned here: http://www.statmt.org/wmt07/baseline.html\n",
      "        \n",
      "        The input file must must contain at least one label per line. For an\n",
      "        example consult the example datasets which are part of the fastText\n",
      "        repository such as the dataset pulled by classification-example.sh.\n",
      "    \n",
      "    train_unsupervised(*kargs, **kwargs)\n",
      "        Train an unsupervised model and return a model object.\n",
      "        \n",
      "        input must be a filepath. The input text does not need to be tokenized\n",
      "        as per the tokenize function, but it must be preprocessed and encoded\n",
      "        as UTF-8. You might want to consult standard preprocessing scripts such\n",
      "        as tokenizer.perl mentioned here: http://www.statmt.org/wmt07/baseline.html\n",
      "        \n",
      "        The input field must not contain any labels or use the specified label prefix\n",
      "        unless it is ok for those words to be ignored. For an example consult the\n",
      "        dataset pulled by the example script word-vector-example.sh, which is\n",
      "        part of the fastText repository.\n",
      "\n",
      "DATA\n",
      "    BOW = '<'\n",
      "    EOS = '</s>'\n",
      "    EOW = '>'\n",
      "    absolute_import = _Feature((2, 5, 0, 'alpha', 1), (3, 0, 0, 'alpha', 0...\n",
      "    displayed_errors = {}\n",
      "    division = _Feature((2, 2, 0, 'alpha', 2), (3, 0, 0, 'alpha', 0), 8192...\n",
      "    print_function = _Feature((2, 6, 0, 'alpha', 2), (3, 0, 0, 'alpha', 0)...\n",
      "    unicode_literals = _Feature((2, 6, 0, 'alpha', 2), (3, 0, 0, 'alpha', ...\n",
      "    unsupervised_default = {'autotuneDuration': 300, 'autotuneMetric': 'f1...\n",
      "\n",
      "FILE\n",
      "    /Users/mihailmihaylov/opt/anaconda3/envs/learner/lib/python3.7/site-packages/fasttext/FastText.py\n",
      "\n",
      "\n"
     ]
    }
   ],
   "source": [
    "help(fasttext.FastText)"
   ]
  },
  {
   "cell_type": "code",
   "execution_count": 128,
   "metadata": {},
   "outputs": [
    {
     "name": "stdout",
     "output_type": "stream",
     "text": [
      "(2500, 0.632, 0.632)\n",
      "(2500, 0.636, 0.636)\n",
      "(2500, 0.6436, 0.6436)\n",
      "(2500, 0.6468, 0.6468)\n",
      "(2500, 0.6484, 0.6484)\n",
      "(2500, 0.65, 0.65)\n",
      "(2500, 0.6544, 0.6544)\n",
      "(2500, 0.6588, 0.6588)\n",
      "(2500, 0.6572, 0.6572)\n",
      "(2500, 0.6568, 0.6568)\n",
      "(2500, 0.654, 0.654)\n",
      "(2500, 0.6536, 0.6536)\n",
      "(2500, 0.656, 0.656)\n",
      "(2500, 0.6568, 0.6568)\n",
      "(2500, 0.6608, 0.6608)\n",
      "(2500, 0.6616, 0.6616)\n",
      "(2500, 0.664, 0.664)\n",
      "(2500, 0.6632, 0.6632)\n",
      "(2500, 0.6636, 0.6636)\n",
      "(2500, 0.6632, 0.6632)\n",
      "(2500, 0.6596, 0.6596)\n",
      "(2500, 0.6608, 0.6608)\n",
      "(2500, 0.6624, 0.6624)\n",
      "(2500, 0.662, 0.662)\n",
      "(2500, 0.6612, 0.6612)\n",
      "(2500, 0.6612, 0.6612)\n",
      "(2500, 0.66, 0.66)\n",
      "(2500, 0.6628, 0.6628)\n",
      "(2500, 0.6656, 0.6656)\n",
      "(2500, 0.6668, 0.6668)\n",
      "(2500, 0.6644, 0.6644)\n",
      "(2500, 0.6672, 0.6672)\n",
      "(2500, 0.668, 0.668)\n",
      "(2500, 0.6672, 0.6672)\n",
      "(2500, 0.6664, 0.6664)\n",
      "(2500, 0.6664, 0.6664)\n",
      "(2500, 0.6684, 0.6684)\n",
      "(2500, 0.6664, 0.6664)\n",
      "(2500, 0.6664, 0.6664)\n",
      "(2500, 0.666, 0.666)\n"
     ]
    }
   ],
   "source": [
    "for epoch in range(10, 50):\n",
    "    model = fasttext.train_supervised(input='train.txt', epoch=epoch, wordNgrams=2, bucket=200000, dim=15, loss='ova')    \n",
    "    print(model.test(\"test.txt\"))"
   ]
  },
  {
   "cell_type": "code",
   "execution_count": 130,
   "metadata": {},
   "outputs": [
    {
     "name": "stdout",
     "output_type": "stream",
     "text": [
      "(2500, 0.6676, 0.6676)\n"
     ]
    }
   ],
   "source": [
    "model = fasttext.train_supervised(input='train.txt', epoch=46, wordNgrams=2, bucket=200000, dim=15, loss='ova')    \n",
    "print(model.test(\"test.txt\"))"
   ]
  },
  {
   "cell_type": "code",
   "execution_count": 131,
   "metadata": {},
   "outputs": [],
   "source": [
    "model.save_model(\"model_review.bin\")"
   ]
  },
  {
   "cell_type": "code",
   "execution_count": 132,
   "metadata": {},
   "outputs": [
    {
     "data": {
      "text/plain": [
       "(('__label__3-4',), array([0.23371637]))"
      ]
     },
     "execution_count": 132,
     "metadata": {},
     "output_type": "execute_result"
    }
   ],
   "source": [
    "review_5 = \"Good production, quite intense, very interesting reenactment of a battle at sea, although I am not sure how realistic and accurate it is (those submarines liked to fight a lot in plain sight over the water, right?).My main issue? It was like a documentary, lots of battle time but no much human drama. No time given to develop any characters or even make us feel something about these people. Ships were sinking in the middle of the Atlantic and we never had a look in the horror of trying to survive this. Even Hank's character felt flat. The few scenes with his love interest were rather awkward and didn't contribute much. At one point we were wondering if the captain was in the spectrum or something..Still, if you are a fan of WWII movies I suggest to watch it for the unique perspective of a battle at sea.\"\n",
    "review_5 = preprocessor(review_5)\n",
    "model.predict(review_5)"
   ]
  },
  {
   "cell_type": "code",
   "execution_count": 133,
   "metadata": {},
   "outputs": [
    {
     "data": {
      "text/plain": [
       "(('__label__9-10',), array([0.98795623]))"
      ]
     },
     "execution_count": 133,
     "metadata": {},
     "output_type": "execute_result"
    }
   ],
   "source": [
    "review_10 = \"This movie may not be for everyone, but as a Navy veteran who has stood watch in CIC this movie is very realistic. I loved that there wasn't a lot of back story. It was more about how lonely and arduous the job of a Navy captain is. Must watch!\"\n",
    "review_10 = preprocessor(review_10)\n",
    "model.predict(review_10)"
   ]
  },
  {
   "cell_type": "code",
   "execution_count": 134,
   "metadata": {},
   "outputs": [
    {
     "data": {
      "text/plain": [
       "(('__label__3-4',), array([0.58511114]))"
      ]
     },
     "execution_count": 134,
     "metadata": {},
     "output_type": "execute_result"
    }
   ],
   "source": [
    "review_6 = \"It was just OK which is reflected in my 6 star rating, which I think is generous. They made little effort at any sort of character development. Hanks has some sort of love interest that is hinted at, but that's it. I thought they were going to build some sort of bond between the captain and his Black cook, but that never got off the ground. We know almost nothing more about the man at the end than in the beginning.It's a difficult challenge to portray on film the battle between a destroyer and a submarine. This movie never really pulls that off, it's like listening to one side of a telephone conversation. The German U-boats never seem to be part of the narrative. They try to bring the U-boats in with their radio broadcasts which come across more as obscene phone calls than viable dialogue.Almost exactly half of the dialogue is sailors repeating orders. It got very tedious, very quickly. I thought they went too far in the whole \\\"navy talk\\\" department.I found the U-boat attack theme music to be mostly bothersome and heavy-handed, like death wail of a fat man, or a runner-up in Dumb and Dumber's most annoying sound in the world.The sea burial onboard was a moving tribute to our military dead. I couldn't imagine a better resting place than the open sea. I was air force and not really sure what we did. Threw bodies out the back of a C130? That'd be cool with me.\"\n",
    "review_6 = preprocessor(review_6)\n",
    "model.predict(review_6)"
   ]
  },
  {
   "cell_type": "code",
   "execution_count": 135,
   "metadata": {},
   "outputs": [
    {
     "name": "stdout",
     "output_type": "stream",
     "text": [
      "3-4\n"
     ]
    }
   ],
   "source": [
    "review_1 = \"A typical US movie boring would a German u-boat contact a us war ship ??? and all the rest again private ( hanks) movie not worth a second to watch ok maybe now with the virus nothing better on\"\n",
    "review_1 = preprocessor(review_1)\n",
    "print(model.predict(review_1)[0][0][9:13])"
   ]
  },
  {
   "cell_type": "code",
   "execution_count": 136,
   "metadata": {},
   "outputs": [
    {
     "name": "stdout",
     "output_type": "stream",
     "text": [
      "3-4\n"
     ]
    }
   ],
   "source": [
    "review_2 = \"This movie was very disappointing, I really wanted to like it. But it was monotonous with 99% of the movie on the fighter ship fighting with a fake sounding loud sound effects. Gave me a headache, take a couple of aspirins if planing to watch it.\"\n",
    "review_2 = preprocessor(review_2)\n",
    "print(model.predict(review_2)[0][0][9:13])"
   ]
  },
  {
   "cell_type": "code",
   "execution_count": 141,
   "metadata": {},
   "outputs": [
    {
     "name": "stdout",
     "output_type": "stream",
     "text": [
      "1-2\n"
     ]
    }
   ],
   "source": [
    "review_2 = \"Movie is very bad\"\n",
    "review_2 = preprocessor(review_2)\n",
    "print(model.predict(review_2)[0][0][9:13])"
   ]
  },
  {
   "cell_type": "code",
   "execution_count": 137,
   "metadata": {},
   "outputs": [
    {
     "data": {
      "text/plain": [
       "(2500, 0.6676, 0.6676)"
      ]
     },
     "execution_count": 137,
     "metadata": {},
     "output_type": "execute_result"
    }
   ],
   "source": [
    "model.test(\"test.txt\")"
   ]
  },
  {
   "cell_type": "code",
   "execution_count": 140,
   "metadata": {},
   "outputs": [
    {
     "data": {
      "text/plain": [
       "(2500, 0.25, 1.0)"
      ]
     },
     "execution_count": 140,
     "metadata": {},
     "output_type": "execute_result"
    }
   ],
   "source": [
    "model.test(\"test.txt\", k=4)"
   ]
  }
 ],
 "metadata": {
  "kernelspec": {
   "display_name": "Python 3",
   "language": "python",
   "name": "python3"
  },
  "language_info": {
   "codemirror_mode": {
    "name": "ipython",
    "version": 3
   },
   "file_extension": ".py",
   "mimetype": "text/x-python",
   "name": "python",
   "nbconvert_exporter": "python",
   "pygments_lexer": "ipython3",
   "version": "3.8.5"
  }
 },
 "nbformat": 4,
 "nbformat_minor": 4
}
