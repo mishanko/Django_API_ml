{
 "cells": [
  {
   "cell_type": "markdown",
   "metadata": {},
   "source": [
    "The first step in our code is to load packages:"
   ]
  },
  {
   "cell_type": "code",
   "execution_count": 1,
   "metadata": {},
   "outputs": [],
   "source": [
    "import json # will be needed for saving preprocessing details\n",
    "import numpy as np # for data manipulation\n",
    "import pandas as pd # for data manipulation\n",
    "from sklearn.model_selection import train_test_split # will be used for data split\n",
    "from sklearn.preprocessing import LabelEncoder # for preprocessing\n",
    "from sklearn.ensemble import RandomForestClassifier # for training the algorithm\n",
    "from sklearn.ensemble import ExtraTreesClassifier # for training the algorithm\n",
    "import fasttext # for learning on text data\n",
    "from tqdm import tqdm # for loops monitoring\n",
    "import re # for regular expressions\n",
    "import string\n",
    "from nltk.corpus import PlaintextCorpusReader\n",
    "from sklearn.utils import shuffle"
   ]
  },
  {
   "cell_type": "markdown",
   "metadata": {},
   "source": [
    "# Multiclass classification"
   ]
  },
  {
   "cell_type": "markdown",
   "metadata": {},
   "source": [
    "## Loading Data"
   ]
  },
  {
   "cell_type": "code",
   "execution_count": 2,
   "metadata": {},
   "outputs": [],
   "source": [
    "def sorter(paths): # функция сортирующая отзывы в папках в словарь reviews\n",
    "    reviews = {'1-2':[], \"3-4\":[], \"7-8\":[], \"9-10\":[]}\n",
    "    for path in paths:\n",
    "        if path == 'neg_train' or path == 'neg':\n",
    "            for rating in range(1, 5):\n",
    "                corpus = PlaintextCorpusReader(path, '.*\\_{}.txt'.format(rating), encoding='utf-8')\n",
    "                names = corpus.fileids()\n",
    "                for name in names:\n",
    "                    file = open(path + f\"/{name}\")\n",
    "                    text = file.read()\n",
    "                    if rating == 1 or rating == 2:\n",
    "                        reviews[\"1-2\"].append(text)\n",
    "                    if rating == 3 or rating == 4:\n",
    "                        reviews[\"3-4\"].append(text)\n",
    "        elif path == \"pos_train\" or path == 'pos':\n",
    "            for rating in range(7, 11):\n",
    "                corpus = PlaintextCorpusReader(path, '.*\\_{}.txt'.format(rating), encoding='utf-8')\n",
    "                names = corpus.fileids()\n",
    "                for name in names:\n",
    "                    file = open(path + f\"/{name}\")\n",
    "                    text = file.read()\n",
    "                    if rating == 7 or rating == 8:\n",
    "                        reviews[\"7-8\"].append(text)\n",
    "                    if rating == 9 or rating == 10:\n",
    "                        reviews[\"9-10\"].append(text)\n",
    "                    \n",
    "    return reviews"
   ]
  },
  {
   "cell_type": "code",
   "execution_count": 3,
   "metadata": {},
   "outputs": [],
   "source": [
    "paths = ['train_neg', 'train_neg', 'pos', 'neg']\n",
    "reviews_rating = sorter(paths)"
   ]
  },
  {
   "cell_type": "markdown",
   "metadata": {},
   "source": [
    "## Data Preprocess"
   ]
  },
  {
   "cell_type": "code",
   "execution_count": 4,
   "metadata": {},
   "outputs": [],
   "source": [
    "df_rating = shuffle(pd.DataFrame([(key, var) for (key, L) in reviews_rating.items() for var in L], \n",
    "                 columns=['rating', 'review']))"
   ]
  },
  {
   "cell_type": "code",
   "execution_count": 5,
   "metadata": {},
   "outputs": [],
   "source": [
    "df_rating.to_csv('df_rating_doubled.csv')"
   ]
  },
  {
   "cell_type": "code",
   "execution_count": 6,
   "metadata": {},
   "outputs": [
    {
     "data": {
      "text/plain": [
       "'this is a test :) :('"
      ]
     },
     "execution_count": 6,
     "metadata": {},
     "output_type": "execute_result"
    }
   ],
   "source": [
    "import re\n",
    "def preprocessor(text):\n",
    "    text =re.sub('<[^>]*>', '', text)\n",
    "    emoticons = re.findall('(?::|;|=)(?:-)?(?:\\)|\\(|D|P)', text)\n",
    "    text = re.sub('[\\W]+', ' ', text.lower()) + ' '.join(emoticons).replace('-', '')\n",
    "    return text\n",
    "\n",
    "preprocessor(\"This is a :) test :-( !\")"
   ]
  },
  {
   "cell_type": "code",
   "execution_count": 7,
   "metadata": {},
   "outputs": [],
   "source": [
    "df_rating['preprocessed_review'] = df_rating.review.apply(preprocessor)"
   ]
  },
  {
   "cell_type": "code",
   "execution_count": 8,
   "metadata": {},
   "outputs": [],
   "source": [
    "data_text_fast = df_rating.apply(lambda x: '__label__' + str(x['rating']) + ' ' + ''.join([str(x['review'])]), axis = 1)"
   ]
  },
  {
   "cell_type": "code",
   "execution_count": 9,
   "metadata": {},
   "outputs": [
    {
     "data": {
      "text/plain": [
       "15601    __label__7-8 **SPOILER ALERT** W. Somerset Mau...\n",
       "307      __label__1-2 There is a remark that one of her...\n",
       "12962    __label__7-8 This 1947 film stars and was dire...\n",
       "14912    __label__7-8 As someone else commented, this i...\n",
       "23341    __label__9-10 Best Stephen King film alongside...\n",
       "                               ...                        \n",
       "19758    __label__9-10 Just finished watching the movie...\n",
       "13640    __label__7-8 I like this episode quite a bit, ...\n",
       "15056    __label__7-8 I'm grateful to Cesar Montano and...\n",
       "1102     __label__1-2 Oh, brother...after hearing about...\n",
       "23288    __label__9-10 I have to say that this is one o...\n",
       "Length: 25000, dtype: object"
      ]
     },
     "execution_count": 9,
     "metadata": {},
     "output_type": "execute_result"
    }
   ],
   "source": [
    "data_text_fast"
   ]
  },
  {
   "cell_type": "code",
   "execution_count": 10,
   "metadata": {},
   "outputs": [],
   "source": [
    "np.savetxt('data_fast_text.txt', data_text_fast, delimiter = ' ', fmt = '%s')"
   ]
  },
  {
   "cell_type": "code",
   "execution_count": 11,
   "metadata": {},
   "outputs": [],
   "source": [
    "test = data_text_fast[:int(len(data_text_fast)*.1)]\n",
    "train = data_text_fast[int(len(data_text_fast)*.1):]\n",
    "np.savetxt('train_fasttext.txt', train, delimiter = ' ', fmt = '%s')\n",
    "np.savetxt('test_fasttext.txt', test, delimiter = ' ', fmt = '%s')"
   ]
  },
  {
   "cell_type": "code",
   "execution_count": 12,
   "metadata": {},
   "outputs": [
    {
     "data": {
      "text/plain": [
       "21395    __label__9-10 I've watched this documentary tw...\n",
       "16544    __label__7-8 \"Anchors Aweigh\" is the product o...\n",
       "6598     __label__1-2 One of the worst movies I've ever...\n",
       "10052    __label__3-4 Well, no, not really. Its not rea...\n",
       "15723    __label__7-8 Faithful adaptation of witty and ...\n",
       "                               ...                        \n",
       "19758    __label__9-10 Just finished watching the movie...\n",
       "13640    __label__7-8 I like this episode quite a bit, ...\n",
       "15056    __label__7-8 I'm grateful to Cesar Montano and...\n",
       "1102     __label__1-2 Oh, brother...after hearing about...\n",
       "23288    __label__9-10 I have to say that this is one o...\n",
       "Length: 22500, dtype: object"
      ]
     },
     "execution_count": 12,
     "metadata": {},
     "output_type": "execute_result"
    }
   ],
   "source": [
    "train"
   ]
  },
  {
   "cell_type": "markdown",
   "metadata": {},
   "source": [
    "## Algorithm Training"
   ]
  },
  {
   "cell_type": "code",
   "execution_count": 13,
   "metadata": {},
   "outputs": [
    {
     "name": "stdout",
     "output_type": "stream",
     "text": [
      "(2500, 0.63, 0.63)\n"
     ]
    }
   ],
   "source": [
    "model = fasttext.train_supervised(input='train_fasttext.txt', epoch=15, wordNgrams=2, bucket=300000, dim=13, loss='ova')    \n",
    "print(model.test(\"test_fasttext.txt\"))"
   ]
  },
  {
   "cell_type": "code",
   "execution_count": 14,
   "metadata": {},
   "outputs": [],
   "source": [
    "model.save_model(\"model_review_fasttext.bin\")"
   ]
  },
  {
   "cell_type": "markdown",
   "metadata": {},
   "source": [
    "## Model Evaluation"
   ]
  },
  {
   "cell_type": "code",
   "execution_count": 15,
   "metadata": {},
   "outputs": [
    {
     "name": "stdout",
     "output_type": "stream",
     "text": [
      "(('__label__3-4',), array([0.32767832]))\n",
      "(('__label__1-2',), array([0.99938369]))\n",
      "(('__label__9-10',), array([0.9659096]))\n",
      "(('__label__3-4',), array([0.32767832]))\n",
      "1-2\n",
      "3-4\n",
      "1-2\n"
     ]
    }
   ],
   "source": [
    "review_5 = \"Good production, quite intense, very interesting reenactment of a battle at sea, although I am not sure how realistic and accurate it is (those submarines liked to fight a lot in plain sight over the water, right?).My main issue? It was like a documentary, lots of battle time but no much human drama. No time given to develop any characters or even make us feel something about these people. Ships were sinking in the middle of the Atlantic and we never had a look in the horror of trying to survive this. Even Hank's character felt flat. The few scenes with his love interest were rather awkward and didn't contribute much. At one point we were wondering if the captain was in the spectrum or something..Still, if you are a fan of WWII movies I suggest to watch it for the unique perspective of a battle at sea.\"\n",
    "review_5 = preprocessor(review_5)\n",
    "print(model.predict(review_5))\n",
    "\n",
    "review = \"Very bad and disgusting film!\"\n",
    "review = preprocessor(review)\n",
    "print(model.predict(review))\n",
    "\n",
    "review_10 = \"This movie may not be for everyone, but as a Navy veteran who has stood watch in CIC this movie is very realistic. I loved that there wasn't a lot of back story. It was more about how lonely and arduous the job of a Navy captain is. Must watch!\"\n",
    "review_10 = preprocessor(review_10)\n",
    "print(model.predict(review_10))\n",
    "\n",
    "review_6 = \"It was just OK which is reflected in my 6 star rating, which I think is generous. They made little effort at any sort of character development. Hanks has some sort of love interest that is hinted at, but that's it. I thought they were going to build some sort of bond between the captain and his Black cook, but that never got off the ground. We know almost nothing more about the man at the end than in the beginning.It's a difficult challenge to portray on film the battle between a destroyer and a submarine. This movie never really pulls that off, it's like listening to one side of a telephone conversation. The German U-boats never seem to be part of the narrative. They try to bring the U-boats in with their radio broadcasts which come across more as obscene phone calls than viable dialogue.Almost exactly half of the dialogue is sailors repeating orders. It got very tedious, very quickly. I thought they went too far in the whole \\\"navy talk\\\" department.I found the U-boat attack theme music to be mostly bothersome and heavy-handed, like death wail of a fat man, or a runner-up in Dumb and Dumber's most annoying sound in the world.The sea burial onboard was a moving tribute to our military dead. I couldn't imagine a better resting place than the open sea. I was air force and not really sure what we did. Threw bodies out the back of a C130? That'd be cool with me.\"\n",
    "review_6 = preprocessor(review_6)\n",
    "print(model.predict(review_6))\n",
    "\n",
    "review_1 = \"A typical US movie boring would a German u-boat contact a us war ship ??? and all the rest again private ( hanks) movie not worth a second to watch ok maybe now with the virus nothing better on\"\n",
    "review_1 = preprocessor(review_1)\n",
    "print(model.predict(review_1)[0][0][9:13])\n",
    "\n",
    "review_2 = \"This movie was very disappointing, I really wanted to like it. But it was monotonous with 99% of the movie on the fighter ship fighting with a fake sounding loud sound effects. Gave me a headache, take a couple of aspirins if planing to watch it.\"\n",
    "review_2 = preprocessor(review_2)\n",
    "print(model.predict(review_2)[0][0][9:13])\n",
    "\n",
    "review_b = \"movie is disgusting\"\n",
    "review_b = preprocessor(review_b)\n",
    "print(model.predict(review_b)[0][0][9:13])"
   ]
  },
  {
   "cell_type": "code",
   "execution_count": 16,
   "metadata": {},
   "outputs": [
    {
     "data": {
      "text/plain": [
       "(2500, 0.25, 1.0)"
      ]
     },
     "execution_count": 16,
     "metadata": {},
     "output_type": "execute_result"
    }
   ],
   "source": [
    "model.test(\"test_fasttext.txt\", k=4)"
   ]
  },
  {
   "cell_type": "markdown",
   "metadata": {},
   "source": [
    "# Binary Classification"
   ]
  },
  {
   "cell_type": "markdown",
   "metadata": {},
   "source": [
    "## Loading Data"
   ]
  },
  {
   "cell_type": "code",
   "execution_count": 17,
   "metadata": {},
   "outputs": [],
   "source": [
    "def sorter_sentiment(paths):\n",
    "    reviews_sentiment = {'__label__0': [], '__label__1': []}\n",
    "    for path in paths:\n",
    "        if path == 'neg_train' or path == 'neg':\n",
    "            for rating in range(1, 5):\n",
    "                corpus = PlaintextCorpusReader(path, '.*\\_{}.txt'.format(rating), encoding='utf-8')\n",
    "                names = corpus.fileids()\n",
    "                for name in names:\n",
    "                    file = open(path + f\"/{name}\")\n",
    "                    text = file.read()\n",
    "                    reviews_sentiment['__label__0'].append(text)\n",
    "        elif path == \"pos_train\" or path == 'pos':\n",
    "            for rating in range(7, 11):\n",
    "                corpus = PlaintextCorpusReader(path, '.*\\_{}.txt'.format(rating), encoding='utf-8')\n",
    "                names = corpus.fileids()\n",
    "                for name in names:\n",
    "                    file = open(path + f\"/{name}\")\n",
    "                    text = file.read()\n",
    "                    reviews_sentiment['__label__1'].append(text)\n",
    "    return reviews_sentiment"
   ]
  },
  {
   "cell_type": "code",
   "execution_count": 19,
   "metadata": {},
   "outputs": [],
   "source": [
    "paths = ['train_neg', 'train_pos', 'pos', 'neg']\n",
    "reviews_sentiment = sorter_sentiment(paths)"
   ]
  },
  {
   "cell_type": "markdown",
   "metadata": {},
   "source": [
    "## Data Preprocess"
   ]
  },
  {
   "cell_type": "code",
   "execution_count": 20,
   "metadata": {},
   "outputs": [],
   "source": [
    "df_sentiment = shuffle(pd.DataFrame([(key, var) for (key, L) in reviews_sentiment.items() for var in L], \n",
    "                 columns=['sentiment', 'review']))"
   ]
  },
  {
   "cell_type": "code",
   "execution_count": 21,
   "metadata": {},
   "outputs": [
    {
     "data": {
      "text/html": [
       "<div>\n",
       "<style scoped>\n",
       "    .dataframe tbody tr th:only-of-type {\n",
       "        vertical-align: middle;\n",
       "    }\n",
       "\n",
       "    .dataframe tbody tr th {\n",
       "        vertical-align: top;\n",
       "    }\n",
       "\n",
       "    .dataframe thead th {\n",
       "        text-align: right;\n",
       "    }\n",
       "</style>\n",
       "<table border=\"1\" class=\"dataframe\">\n",
       "  <thead>\n",
       "    <tr style=\"text-align: right;\">\n",
       "      <th></th>\n",
       "      <th>sentiment</th>\n",
       "      <th>review</th>\n",
       "    </tr>\n",
       "  </thead>\n",
       "  <tbody>\n",
       "    <tr>\n",
       "      <th>2941</th>\n",
       "      <td>__label__0</td>\n",
       "      <td>Ok so I was bored and I watched it all the way...</td>\n",
       "    </tr>\n",
       "    <tr>\n",
       "      <th>9986</th>\n",
       "      <td>__label__0</td>\n",
       "      <td>When my wife and I decided to watch this movie...</td>\n",
       "    </tr>\n",
       "    <tr>\n",
       "      <th>10377</th>\n",
       "      <td>__label__0</td>\n",
       "      <td>Ben Masters,(Kyd Thomas),\"Dream Lover\",'86 pla...</td>\n",
       "    </tr>\n",
       "    <tr>\n",
       "      <th>19533</th>\n",
       "      <td>__label__1</td>\n",
       "      <td>This is a really great short from Hal Roach. T...</td>\n",
       "    </tr>\n",
       "    <tr>\n",
       "      <th>6707</th>\n",
       "      <td>__label__0</td>\n",
       "      <td>I put this movie on in the hotel room to enter...</td>\n",
       "    </tr>\n",
       "    <tr>\n",
       "      <th>...</th>\n",
       "      <td>...</td>\n",
       "      <td>...</td>\n",
       "    </tr>\n",
       "    <tr>\n",
       "      <th>21549</th>\n",
       "      <td>__label__1</td>\n",
       "      <td>this movie was rather awful Vipul Shah's last ...</td>\n",
       "    </tr>\n",
       "    <tr>\n",
       "      <th>11087</th>\n",
       "      <td>__label__0</td>\n",
       "      <td>I'm a big mark for the music of Neil Young, an...</td>\n",
       "    </tr>\n",
       "    <tr>\n",
       "      <th>163</th>\n",
       "      <td>__label__0</td>\n",
       "      <td>This show is a perfect example of how the CBC ...</td>\n",
       "    </tr>\n",
       "    <tr>\n",
       "      <th>2915</th>\n",
       "      <td>__label__0</td>\n",
       "      <td>This movie is about a female rape victim/comic...</td>\n",
       "    </tr>\n",
       "    <tr>\n",
       "      <th>12247</th>\n",
       "      <td>__label__0</td>\n",
       "      <td>I rented this on DVD yesterday and did not rea...</td>\n",
       "    </tr>\n",
       "  </tbody>\n",
       "</table>\n",
       "<p>25000 rows × 2 columns</p>\n",
       "</div>"
      ],
      "text/plain": [
       "        sentiment                                             review\n",
       "2941   __label__0  Ok so I was bored and I watched it all the way...\n",
       "9986   __label__0  When my wife and I decided to watch this movie...\n",
       "10377  __label__0  Ben Masters,(Kyd Thomas),\"Dream Lover\",'86 pla...\n",
       "19533  __label__1  This is a really great short from Hal Roach. T...\n",
       "6707   __label__0  I put this movie on in the hotel room to enter...\n",
       "...           ...                                                ...\n",
       "21549  __label__1  this movie was rather awful Vipul Shah's last ...\n",
       "11087  __label__0  I'm a big mark for the music of Neil Young, an...\n",
       "163    __label__0  This show is a perfect example of how the CBC ...\n",
       "2915   __label__0  This movie is about a female rape victim/comic...\n",
       "12247  __label__0  I rented this on DVD yesterday and did not rea...\n",
       "\n",
       "[25000 rows x 2 columns]"
      ]
     },
     "execution_count": 21,
     "metadata": {},
     "output_type": "execute_result"
    }
   ],
   "source": [
    "df_sentiment"
   ]
  },
  {
   "cell_type": "code",
   "execution_count": 22,
   "metadata": {},
   "outputs": [],
   "source": [
    "df_sentiment.to_csv('df_sentiment.csv')"
   ]
  },
  {
   "cell_type": "code",
   "execution_count": 23,
   "metadata": {},
   "outputs": [],
   "source": [
    "df_sentiment['preprocessed_review'] = df_sentiment.review.apply(preprocessor)"
   ]
  },
  {
   "cell_type": "code",
   "execution_count": 24,
   "metadata": {},
   "outputs": [
    {
     "data": {
      "text/html": [
       "<div>\n",
       "<style scoped>\n",
       "    .dataframe tbody tr th:only-of-type {\n",
       "        vertical-align: middle;\n",
       "    }\n",
       "\n",
       "    .dataframe tbody tr th {\n",
       "        vertical-align: top;\n",
       "    }\n",
       "\n",
       "    .dataframe thead th {\n",
       "        text-align: right;\n",
       "    }\n",
       "</style>\n",
       "<table border=\"1\" class=\"dataframe\">\n",
       "  <thead>\n",
       "    <tr style=\"text-align: right;\">\n",
       "      <th></th>\n",
       "      <th>sentiment</th>\n",
       "      <th>review</th>\n",
       "      <th>preprocessed_review</th>\n",
       "    </tr>\n",
       "  </thead>\n",
       "  <tbody>\n",
       "    <tr>\n",
       "      <th>2941</th>\n",
       "      <td>__label__0</td>\n",
       "      <td>Ok so I was bored and I watched it all the way...</td>\n",
       "      <td>ok so i was bored and i watched it all the way...</td>\n",
       "    </tr>\n",
       "    <tr>\n",
       "      <th>9986</th>\n",
       "      <td>__label__0</td>\n",
       "      <td>When my wife and I decided to watch this movie...</td>\n",
       "      <td>when my wife and i decided to watch this movie...</td>\n",
       "    </tr>\n",
       "    <tr>\n",
       "      <th>10377</th>\n",
       "      <td>__label__0</td>\n",
       "      <td>Ben Masters,(Kyd Thomas),\"Dream Lover\",'86 pla...</td>\n",
       "      <td>ben masters kyd thomas dream lover 86 plays a ...</td>\n",
       "    </tr>\n",
       "    <tr>\n",
       "      <th>19533</th>\n",
       "      <td>__label__1</td>\n",
       "      <td>This is a really great short from Hal Roach. T...</td>\n",
       "      <td>this is a really great short from hal roach th...</td>\n",
       "    </tr>\n",
       "    <tr>\n",
       "      <th>6707</th>\n",
       "      <td>__label__0</td>\n",
       "      <td>I put this movie on in the hotel room to enter...</td>\n",
       "      <td>i put this movie on in the hotel room to enter...</td>\n",
       "    </tr>\n",
       "    <tr>\n",
       "      <th>...</th>\n",
       "      <td>...</td>\n",
       "      <td>...</td>\n",
       "      <td>...</td>\n",
       "    </tr>\n",
       "    <tr>\n",
       "      <th>21549</th>\n",
       "      <td>__label__1</td>\n",
       "      <td>this movie was rather awful Vipul Shah's last ...</td>\n",
       "      <td>this movie was rather awful vipul shah s last ...</td>\n",
       "    </tr>\n",
       "    <tr>\n",
       "      <th>11087</th>\n",
       "      <td>__label__0</td>\n",
       "      <td>I'm a big mark for the music of Neil Young, an...</td>\n",
       "      <td>i m a big mark for the music of neil young and...</td>\n",
       "    </tr>\n",
       "    <tr>\n",
       "      <th>163</th>\n",
       "      <td>__label__0</td>\n",
       "      <td>This show is a perfect example of how the CBC ...</td>\n",
       "      <td>this show is a perfect example of how the cbc ...</td>\n",
       "    </tr>\n",
       "    <tr>\n",
       "      <th>2915</th>\n",
       "      <td>__label__0</td>\n",
       "      <td>This movie is about a female rape victim/comic...</td>\n",
       "      <td>this movie is about a female rape victim comic...</td>\n",
       "    </tr>\n",
       "    <tr>\n",
       "      <th>12247</th>\n",
       "      <td>__label__0</td>\n",
       "      <td>I rented this on DVD yesterday and did not rea...</td>\n",
       "      <td>i rented this on dvd yesterday and did not rea...</td>\n",
       "    </tr>\n",
       "  </tbody>\n",
       "</table>\n",
       "<p>25000 rows × 3 columns</p>\n",
       "</div>"
      ],
      "text/plain": [
       "        sentiment                                             review  \\\n",
       "2941   __label__0  Ok so I was bored and I watched it all the way...   \n",
       "9986   __label__0  When my wife and I decided to watch this movie...   \n",
       "10377  __label__0  Ben Masters,(Kyd Thomas),\"Dream Lover\",'86 pla...   \n",
       "19533  __label__1  This is a really great short from Hal Roach. T...   \n",
       "6707   __label__0  I put this movie on in the hotel room to enter...   \n",
       "...           ...                                                ...   \n",
       "21549  __label__1  this movie was rather awful Vipul Shah's last ...   \n",
       "11087  __label__0  I'm a big mark for the music of Neil Young, an...   \n",
       "163    __label__0  This show is a perfect example of how the CBC ...   \n",
       "2915   __label__0  This movie is about a female rape victim/comic...   \n",
       "12247  __label__0  I rented this on DVD yesterday and did not rea...   \n",
       "\n",
       "                                     preprocessed_review  \n",
       "2941   ok so i was bored and i watched it all the way...  \n",
       "9986   when my wife and i decided to watch this movie...  \n",
       "10377  ben masters kyd thomas dream lover 86 plays a ...  \n",
       "19533  this is a really great short from hal roach th...  \n",
       "6707   i put this movie on in the hotel room to enter...  \n",
       "...                                                  ...  \n",
       "21549  this movie was rather awful vipul shah s last ...  \n",
       "11087  i m a big mark for the music of neil young and...  \n",
       "163    this show is a perfect example of how the cbc ...  \n",
       "2915   this movie is about a female rape victim comic...  \n",
       "12247  i rented this on dvd yesterday and did not rea...  \n",
       "\n",
       "[25000 rows x 3 columns]"
      ]
     },
     "execution_count": 24,
     "metadata": {},
     "output_type": "execute_result"
    }
   ],
   "source": [
    "df_sentiment"
   ]
  },
  {
   "cell_type": "code",
   "execution_count": 25,
   "metadata": {},
   "outputs": [],
   "source": [
    "data_text_fast_sentiment = df_sentiment.apply(lambda x: x['sentiment'] + ' ' + ''.join([str(x['preprocessed_review'])]), axis = 1)"
   ]
  },
  {
   "cell_type": "code",
   "execution_count": 26,
   "metadata": {},
   "outputs": [
    {
     "data": {
      "text/plain": [
       "2941     __label__0 ok so i was bored and i watched it ...\n",
       "9986     __label__0 when my wife and i decided to watch...\n",
       "10377    __label__0 ben masters kyd thomas dream lover ...\n",
       "19533    __label__1 this is a really great short from h...\n",
       "6707     __label__0 i put this movie on in the hotel ro...\n",
       "                               ...                        \n",
       "21549    __label__1 this movie was rather awful vipul s...\n",
       "11087    __label__0 i m a big mark for the music of nei...\n",
       "163      __label__0 this show is a perfect example of h...\n",
       "2915     __label__0 this movie is about a female rape v...\n",
       "12247    __label__0 i rented this on dvd yesterday and ...\n",
       "Length: 25000, dtype: object"
      ]
     },
     "execution_count": 26,
     "metadata": {},
     "output_type": "execute_result"
    }
   ],
   "source": [
    "data_text_fast_sentiment"
   ]
  },
  {
   "cell_type": "code",
   "execution_count": 27,
   "metadata": {},
   "outputs": [],
   "source": [
    "np.savetxt('data_fast_text_sentiment.txt', data_text_fast_sentiment, delimiter = ' ', fmt = '%s')"
   ]
  },
  {
   "cell_type": "code",
   "execution_count": 28,
   "metadata": {},
   "outputs": [],
   "source": [
    "test_sentiment = data_text_fast_sentiment[:int(len(data_text_fast_sentiment)*.1)]\n",
    "train_sentiment = data_text_fast_sentiment[int(len(data_text_fast_sentiment)*.1):]\n",
    "np.savetxt('train_fasttext_sentiment.txt', train_sentiment, delimiter = ' ', fmt = '%s')\n",
    "np.savetxt('test_fasttext_sentiment.txt', test_sentiment, delimiter = ' ', fmt = '%s')"
   ]
  },
  {
   "cell_type": "code",
   "execution_count": 29,
   "metadata": {},
   "outputs": [
    {
     "data": {
      "text/plain": [
       "2941     __label__0 ok so i was bored and i watched it ...\n",
       "9986     __label__0 when my wife and i decided to watch...\n",
       "10377    __label__0 ben masters kyd thomas dream lover ...\n",
       "19533    __label__1 this is a really great short from h...\n",
       "6707     __label__0 i put this movie on in the hotel ro...\n",
       "                               ...                        \n",
       "10872    __label__0 awesomely improbable and foolish po...\n",
       "17942    __label__1 i enjoyed it in general i m not a f...\n",
       "11770    __label__0 damp telling of the american revolu...\n",
       "16718    __label__1 jazz aficionados will treasure this...\n",
       "8875     __label__0 they re showing this on some off ne...\n",
       "Length: 2500, dtype: object"
      ]
     },
     "execution_count": 29,
     "metadata": {},
     "output_type": "execute_result"
    }
   ],
   "source": [
    "test_sentiment"
   ]
  },
  {
   "cell_type": "code",
   "execution_count": 30,
   "metadata": {},
   "outputs": [
    {
     "data": {
      "text/plain": [
       "289      __label__0 this is a piece of s t this looks w...\n",
       "24651    __label__1 who ever came up with story is one ...\n",
       "15429    __label__1 this movie is awesome for three mai...\n",
       "23056    __label__1 if ever anyone queries whether cine...\n",
       "6967     __label__0 to anyone not familiar with c s for...\n",
       "                               ...                        \n",
       "21549    __label__1 this movie was rather awful vipul s...\n",
       "11087    __label__0 i m a big mark for the music of nei...\n",
       "163      __label__0 this show is a perfect example of h...\n",
       "2915     __label__0 this movie is about a female rape v...\n",
       "12247    __label__0 i rented this on dvd yesterday and ...\n",
       "Length: 22500, dtype: object"
      ]
     },
     "execution_count": 30,
     "metadata": {},
     "output_type": "execute_result"
    }
   ],
   "source": [
    "train_sentiment"
   ]
  },
  {
   "cell_type": "markdown",
   "metadata": {},
   "source": [
    "## Algorithm Training"
   ]
  },
  {
   "cell_type": "code",
   "execution_count": 31,
   "metadata": {},
   "outputs": [
    {
     "name": "stdout",
     "output_type": "stream",
     "text": [
      "(2500, 0.8988, 0.8988)\n"
     ]
    }
   ],
   "source": [
    "model_sentiment = fasttext.train_supervised(input='train_fasttext_sentiment.txt', epoch=26, wordNgrams=2, bucket=200000, dim=17, loss='ova')    \n",
    "print(model_sentiment.test(\"test_fasttext_sentiment.txt\"))"
   ]
  },
  {
   "cell_type": "code",
   "execution_count": 32,
   "metadata": {},
   "outputs": [],
   "source": [
    "model_sentiment.save_model(\"model_review_fasttext_sentiment.bin\")"
   ]
  },
  {
   "cell_type": "markdown",
   "metadata": {},
   "source": [
    "## Model Evaluation"
   ]
  },
  {
   "cell_type": "code",
   "execution_count": 33,
   "metadata": {},
   "outputs": [
    {
     "name": "stdout",
     "output_type": "stream",
     "text": [
      "(('__label__1',), array([1.00001001]))\n",
      "(('__label__0',), array([0.91491097]))\n",
      "(('__label__1',), array([1.00001001]))\n",
      "(('__label__1',), array([1.00001001]))\n",
      "(('__label__0',), array([1.00001001]))\n"
     ]
    }
   ],
   "source": [
    "rev_pos = 'What an excellent film by Rian Johnson; definitely feels like the film he was destined to make. Writing that is slick as hell, sublime performances (most notably Daniel Craig who brings his A-game in a wonderfully charismatic turn), superb editing and wonderfully atmospheric music - all tied together by masterful direction. Will probably be among the most fun you have at a theatre this year and fans of Agatha Christie and old murder mystery stories will have plenty to love here - a nostalgically entertaining time!'\n",
    "rev_pos = preprocessor(rev_pos)\n",
    "print(model_sentiment.predict(rev_pos))\n",
    "\n",
    "rev_neg_1 = \"Although this show is very highly rated I couldn't force myself to keep watching after a few episodes simply because of the way the actors talk. I wouldn't even say the acting is bad, the characters just can't keep up with all this dark, cold and mysterious plot. The people are all equally dark, cold and mysterious and that's just not the way people are or at least behave. For Non-German audience it is probably easier to get into but the show is set in Germany in German language. And no one here talks that way, like an emotionless robot (maybe that's the way we are seen by the world but it's not true). So every dialogue of the show reminded me just how different and stylish it wants to be, completely forgetting human depth or even basic human feelings (when you begin to ask yourself if there is any character capable of loving, even if it's just their family members, you know there is something wrong).\"\n",
    "rev_neg_1 = preprocessor(rev_neg_1)\n",
    "print(model_sentiment.predict(rev_neg_1))\n",
    "\n",
    "rev_pos_1 = \"This feedback is currently based on the first 10 episodes of season one (still watching the series as we speak), and to be honest it made me downgrade my rating for 'Stranger Things' quite a bit. It's clear that this series is the child of a genius - everything just works. The acting is great, the cinematography is great, the soundtrack is awesome (reminds me of Klaus Schulze at times), and the story-line is mind-boggling. This series is just miles above anything that leaves Hollywood. Wish that all productions could be like this. Thanks Netflix for bringing this awesome series to me screen. Say bye-bye to public television!\"\n",
    "rev_pos_1 = preprocessor(rev_pos_1)\n",
    "print(model_sentiment.predict(rev_pos_1))\n",
    "\n",
    "rev_pos_2 = \"This movie is good\"\n",
    "rev_pos_2 = preprocessor(rev_pos_2)\n",
    "print(model_sentiment.predict(rev_pos_2))\n",
    "\n",
    "rev_neg_2 = \"This is truly the most garbage movie I've ever seen. As a film student, I have no idea what this director was doing as he put this maseceure together. The shots are random and unmotivated, even for a comedy. I love comedies and Andy Samberg, but the writing is so awful. I don't see how a writer could be happy showing this to anyone, and the producers must of been so eager for a script that they couldn't recognize how terrible it is. The editing and sound mixing look like they've been done by amateurs. Besides the few creative cinematic shots and the three or four decent lines of dialogue, there's absolutely nothing good about this film and anyone who things this is great must have a very low intellect and appreciation of good films.\"\n",
    "rev_neg_2 = preprocessor(rev_neg_2)\n",
    "print(model_sentiment.predict(rev_neg_2))"
   ]
  }
 ],
 "metadata": {
  "kernelspec": {
   "display_name": "venv",
   "language": "python",
   "name": "venv"
  },
  "language_info": {
   "codemirror_mode": {
    "name": "ipython",
    "version": 3
   },
   "file_extension": ".py",
   "mimetype": "text/x-python",
   "name": "python",
   "nbconvert_exporter": "python",
   "pygments_lexer": "ipython3",
   "version": "3.8.5"
  }
 },
 "nbformat": 4,
 "nbformat_minor": 4
}
