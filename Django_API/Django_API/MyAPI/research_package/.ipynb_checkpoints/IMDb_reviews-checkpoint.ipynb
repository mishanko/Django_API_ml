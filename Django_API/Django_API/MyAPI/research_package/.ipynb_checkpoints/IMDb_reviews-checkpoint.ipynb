{
 "cells": [
  {
   "cell_type": "markdown",
   "metadata": {},
   "source": [
    " # Знакомство с данными и их импорт"
   ]
  },
  {
   "cell_type": "markdown",
   "metadata": {},
   "source": [
    "Импортируем необходимые библиотеки"
   ]
  },
  {
   "cell_type": "code",
   "execution_count": 13,
   "metadata": {},
   "outputs": [],
   "source": [
    "from nltk.corpus import PlaintextCorpusReader #\n",
    "from nltk.stem.snowball import SnowballStemmer \n",
    "from nltk.stem.porter import PorterStemmer #\n",
    "from sklearn.metrics import classification_report, accuracy_score #\n",
    "from sklearn.model_selection import GridSearchCV #\n",
    "from sklearn.utils import shuffle #\n",
    "import numpy as np #\n",
    "from scipy.sparse import csr_matrix #\n",
    "import pandas as pd #\n",
    "from sklearn.feature_extraction.text import CountVectorizer #\n",
    "from sklearn.feature_extraction.text import TfidfTransformer #\n",
    "from nltk.corpus import stopwords #\n",
    "from sklearn.feature_extraction.text import TfidfVectorizer #\n",
    "from sklearn.model_selection import train_test_split #\n",
    "import pickle #\n",
    "from sklearn.linear_model import LogisticRegressionCV #\n",
    "import matplotlib.pyplot as plt #\n",
    "from sklearn.metrics import classification_report, confusion_matrix #\n",
    "import itertools\n",
    "import nltk"
   ]
  },
  {
   "cell_type": "markdown",
   "metadata": {},
   "source": [
    "Функция сортирующая отзывы в словарь"
   ]
  },
  {
   "cell_type": "code",
   "execution_count": 48,
   "metadata": {},
   "outputs": [],
   "source": [
    "def sorter_sentiment(paths):\n",
    "    reviews_sentiment = {0: [], 1: []}\n",
    "    for path in paths:\n",
    "        if path == 'neg_train' or path == 'neg':\n",
    "            for rating in range(1, 5):\n",
    "                corpus = PlaintextCorpusReader(path, '.*\\_{}.txt'.format(rating), encoding='utf-8')\n",
    "                names = corpus.fileids()\n",
    "                for name in names:\n",
    "                    file = open(path + f\"/{name}\")\n",
    "                    text = file.read()\n",
    "                    reviews_sentiment[0].append(text)\n",
    "        elif path == \"pos_train\" or path == 'pos':\n",
    "            for rating in range(7, 11):\n",
    "                corpus = PlaintextCorpusReader(path, '.*\\_{}.txt'.format(rating), encoding='utf-8')\n",
    "                names = corpus.fileids()\n",
    "                for name in names:\n",
    "                    file = open(path + f\"/{name}\")\n",
    "                    text = file.read()\n",
    "                    reviews_sentiment[1].append(text)\n",
    "    return reviews_sentiment"
   ]
  },
  {
   "cell_type": "code",
   "execution_count": 49,
   "metadata": {},
   "outputs": [],
   "source": [
    "paths = ['neg_train', 'pos_train', 'pos', 'neg']\n",
    "reviews_sentiment = sorter_sentiment(paths)"
   ]
  },
  {
   "cell_type": "markdown",
   "metadata": {},
   "source": [
    "Преобразуем данные в Data Frame"
   ]
  },
  {
   "cell_type": "code",
   "execution_count": 50,
   "metadata": {},
   "outputs": [],
   "source": [
    "df_main_sentiment = pd.DataFrame([(key, var) for (key, L) in reviews_sentiment.items() for var in L], \n",
    "                 columns=['sentiment', 'review'])"
   ]
  },
  {
   "cell_type": "markdown",
   "metadata": {},
   "source": [
    "Сохраним DataFrame в csv файл"
   ]
  },
  {
   "cell_type": "code",
   "execution_count": 51,
   "metadata": {},
   "outputs": [],
   "source": [
    "df_main_sentiment.to_csv('df_sentiment.csv')"
   ]
  },
  {
   "cell_type": "code",
   "execution_count": 52,
   "metadata": {},
   "outputs": [
    {
     "data": {
      "text/html": [
       "<div>\n",
       "<style scoped>\n",
       "    .dataframe tbody tr th:only-of-type {\n",
       "        vertical-align: middle;\n",
       "    }\n",
       "\n",
       "    .dataframe tbody tr th {\n",
       "        vertical-align: top;\n",
       "    }\n",
       "\n",
       "    .dataframe thead th {\n",
       "        text-align: right;\n",
       "    }\n",
       "</style>\n",
       "<table border=\"1\" class=\"dataframe\">\n",
       "  <thead>\n",
       "    <tr style=\"text-align: right;\">\n",
       "      <th></th>\n",
       "      <th>sentiment</th>\n",
       "      <th>review</th>\n",
       "    </tr>\n",
       "  </thead>\n",
       "  <tbody>\n",
       "    <tr>\n",
       "      <th>0</th>\n",
       "      <td>0</td>\n",
       "      <td>Sorry everyone,,, I know this is supposed to b...</td>\n",
       "    </tr>\n",
       "    <tr>\n",
       "      <th>1</th>\n",
       "      <td>0</td>\n",
       "      <td>When I was little my parents took me along to ...</td>\n",
       "    </tr>\n",
       "    <tr>\n",
       "      <th>2</th>\n",
       "      <td>0</td>\n",
       "      <td>This film is mediocre at best. Angie Harmon is...</td>\n",
       "    </tr>\n",
       "    <tr>\n",
       "      <th>3</th>\n",
       "      <td>0</td>\n",
       "      <td>This film is one giant pant load. Paul Schrade...</td>\n",
       "    </tr>\n",
       "    <tr>\n",
       "      <th>4</th>\n",
       "      <td>0</td>\n",
       "      <td>This movie must be in line for the most boring...</td>\n",
       "    </tr>\n",
       "    <tr>\n",
       "      <th>...</th>\n",
       "      <td>...</td>\n",
       "      <td>...</td>\n",
       "    </tr>\n",
       "    <tr>\n",
       "      <th>49995</th>\n",
       "      <td>1</td>\n",
       "      <td>I'm not a sports fan - but I love sports flics...</td>\n",
       "    </tr>\n",
       "    <tr>\n",
       "      <th>49996</th>\n",
       "      <td>1</td>\n",
       "      <td>This movie gives golf a high mark, it was well...</td>\n",
       "    </tr>\n",
       "    <tr>\n",
       "      <th>49997</th>\n",
       "      <td>1</td>\n",
       "      <td>Wow, here is another great golf movie. That's ...</td>\n",
       "    </tr>\n",
       "    <tr>\n",
       "      <th>49998</th>\n",
       "      <td>1</td>\n",
       "      <td>Although I'm not a golf fan, I attended a snea...</td>\n",
       "    </tr>\n",
       "    <tr>\n",
       "      <th>49999</th>\n",
       "      <td>1</td>\n",
       "      <td>This movie, with all its complexity and subtle...</td>\n",
       "    </tr>\n",
       "  </tbody>\n",
       "</table>\n",
       "<p>50000 rows × 2 columns</p>\n",
       "</div>"
      ],
      "text/plain": [
       "       sentiment                                             review\n",
       "0              0  Sorry everyone,,, I know this is supposed to b...\n",
       "1              0  When I was little my parents took me along to ...\n",
       "2              0  This film is mediocre at best. Angie Harmon is...\n",
       "3              0  This film is one giant pant load. Paul Schrade...\n",
       "4              0  This movie must be in line for the most boring...\n",
       "...          ...                                                ...\n",
       "49995          1  I'm not a sports fan - but I love sports flics...\n",
       "49996          1  This movie gives golf a high mark, it was well...\n",
       "49997          1  Wow, here is another great golf movie. That's ...\n",
       "49998          1  Although I'm not a golf fan, I attended a snea...\n",
       "49999          1  This movie, with all its complexity and subtle...\n",
       "\n",
       "[50000 rows x 2 columns]"
      ]
     },
     "execution_count": 52,
     "metadata": {},
     "output_type": "execute_result"
    }
   ],
   "source": [
    "df_main_sentiment"
   ]
  },
  {
   "cell_type": "code",
   "execution_count": 53,
   "metadata": {},
   "outputs": [],
   "source": [
    "df = pd.read_csv('df_sentiment.csv')"
   ]
  },
  {
   "cell_type": "code",
   "execution_count": 54,
   "metadata": {},
   "outputs": [
    {
     "data": {
      "text/html": [
       "<div>\n",
       "<style scoped>\n",
       "    .dataframe tbody tr th:only-of-type {\n",
       "        vertical-align: middle;\n",
       "    }\n",
       "\n",
       "    .dataframe tbody tr th {\n",
       "        vertical-align: top;\n",
       "    }\n",
       "\n",
       "    .dataframe thead th {\n",
       "        text-align: right;\n",
       "    }\n",
       "</style>\n",
       "<table border=\"1\" class=\"dataframe\">\n",
       "  <thead>\n",
       "    <tr style=\"text-align: right;\">\n",
       "      <th></th>\n",
       "      <th>Unnamed: 0</th>\n",
       "      <th>sentiment</th>\n",
       "      <th>review</th>\n",
       "    </tr>\n",
       "  </thead>\n",
       "  <tbody>\n",
       "    <tr>\n",
       "      <th>0</th>\n",
       "      <td>0</td>\n",
       "      <td>0</td>\n",
       "      <td>Sorry everyone,,, I know this is supposed to b...</td>\n",
       "    </tr>\n",
       "    <tr>\n",
       "      <th>1</th>\n",
       "      <td>1</td>\n",
       "      <td>0</td>\n",
       "      <td>When I was little my parents took me along to ...</td>\n",
       "    </tr>\n",
       "    <tr>\n",
       "      <th>2</th>\n",
       "      <td>2</td>\n",
       "      <td>0</td>\n",
       "      <td>This film is mediocre at best. Angie Harmon is...</td>\n",
       "    </tr>\n",
       "    <tr>\n",
       "      <th>3</th>\n",
       "      <td>3</td>\n",
       "      <td>0</td>\n",
       "      <td>This film is one giant pant load. Paul Schrade...</td>\n",
       "    </tr>\n",
       "    <tr>\n",
       "      <th>4</th>\n",
       "      <td>4</td>\n",
       "      <td>0</td>\n",
       "      <td>This movie must be in line for the most boring...</td>\n",
       "    </tr>\n",
       "    <tr>\n",
       "      <th>...</th>\n",
       "      <td>...</td>\n",
       "      <td>...</td>\n",
       "      <td>...</td>\n",
       "    </tr>\n",
       "    <tr>\n",
       "      <th>49995</th>\n",
       "      <td>49995</td>\n",
       "      <td>1</td>\n",
       "      <td>I'm not a sports fan - but I love sports flics...</td>\n",
       "    </tr>\n",
       "    <tr>\n",
       "      <th>49996</th>\n",
       "      <td>49996</td>\n",
       "      <td>1</td>\n",
       "      <td>This movie gives golf a high mark, it was well...</td>\n",
       "    </tr>\n",
       "    <tr>\n",
       "      <th>49997</th>\n",
       "      <td>49997</td>\n",
       "      <td>1</td>\n",
       "      <td>Wow, here is another great golf movie. That's ...</td>\n",
       "    </tr>\n",
       "    <tr>\n",
       "      <th>49998</th>\n",
       "      <td>49998</td>\n",
       "      <td>1</td>\n",
       "      <td>Although I'm not a golf fan, I attended a snea...</td>\n",
       "    </tr>\n",
       "    <tr>\n",
       "      <th>49999</th>\n",
       "      <td>49999</td>\n",
       "      <td>1</td>\n",
       "      <td>This movie, with all its complexity and subtle...</td>\n",
       "    </tr>\n",
       "  </tbody>\n",
       "</table>\n",
       "<p>50000 rows × 3 columns</p>\n",
       "</div>"
      ],
      "text/plain": [
       "       Unnamed: 0  sentiment  \\\n",
       "0               0          0   \n",
       "1               1          0   \n",
       "2               2          0   \n",
       "3               3          0   \n",
       "4               4          0   \n",
       "...           ...        ...   \n",
       "49995       49995          1   \n",
       "49996       49996          1   \n",
       "49997       49997          1   \n",
       "49998       49998          1   \n",
       "49999       49999          1   \n",
       "\n",
       "                                                  review  \n",
       "0      Sorry everyone,,, I know this is supposed to b...  \n",
       "1      When I was little my parents took me along to ...  \n",
       "2      This film is mediocre at best. Angie Harmon is...  \n",
       "3      This film is one giant pant load. Paul Schrade...  \n",
       "4      This movie must be in line for the most boring...  \n",
       "...                                                  ...  \n",
       "49995  I'm not a sports fan - but I love sports flics...  \n",
       "49996  This movie gives golf a high mark, it was well...  \n",
       "49997  Wow, here is another great golf movie. That's ...  \n",
       "49998  Although I'm not a golf fan, I attended a snea...  \n",
       "49999  This movie, with all its complexity and subtle...  \n",
       "\n",
       "[50000 rows x 3 columns]"
      ]
     },
     "execution_count": 54,
     "metadata": {},
     "output_type": "execute_result"
    }
   ],
   "source": [
    "df"
   ]
  },
  {
   "cell_type": "code",
   "execution_count": 9,
   "metadata": {},
   "outputs": [],
   "source": [
    "data = pd.read_csv('movie_data.csv')"
   ]
  },
  {
   "cell_type": "markdown",
   "metadata": {},
   "source": [
    "For training, our feature matrix is greatly sparse, meaning there is a lot of zeros in this matrix as there are 25,000 rows and approximately 75,000 columns. So, what we’re gonna do is find the weight of each feature and multiply them with their corresponding TD-IDF values; sum all the values, pass it through a sigmoid activation function, and that’s how we end up with the Logistic Regression model. The advantages of applying a Logistic function in this case: the model handles sparse matrices really well, and the weights can be interpreted as a probability for the sentiments."
   ]
  },
  {
   "cell_type": "markdown",
   "metadata": {},
   "source": [
    "Для обучения наша матрица сильно разряжена. Это значит, что в 25000 строк и примерно 75000 столбцов много нулей. Поэтому, мы найдем вес каждого признака и умножим их на соответствующие TD-IDF значения; просуммируем все значения, пропустим их через активационную функцию типа сигмоиды, и так получим модель Логистической Регрессии. Преимущества применения Логистической функции в нашем случае это: модель хорошо управляется с разряженными матрицами, веса могут быть интерпретированы как вероятность положительного или отрицательного отзыва."
   ]
  },
  {
   "cell_type": "markdown",
   "metadata": {},
   "source": [
    "# Transforming Documents into Feature Vectors\n",
    "# Преобразование документов в вектор-признаки"
   ]
  },
  {
   "cell_type": "markdown",
   "metadata": {},
   "source": [
    "#### Word Relevancy using Term Frequency-Inverse Document Frequency (TD-IDF)"
   ]
  },
  {
   "cell_type": "code",
   "execution_count": 55,
   "metadata": {},
   "outputs": [
    {
     "name": "stdout",
     "output_type": "stream",
     "text": [
      "[[0.   0.43 0.   0.56 0.56 0.   0.43 0.   0.  ]\n",
      " [0.   0.43 0.   0.   0.   0.56 0.43 0.   0.56]\n",
      " [0.5  0.45 0.5  0.19 0.19 0.19 0.3  0.25 0.19]]\n"
     ]
    }
   ],
   "source": [
    "np.set_printoptions(precision=2)\n",
    "\n",
    "tfidf = TfidfTransformer(use_idf=True, norm='l2', smooth_idf=True)\n",
    "\n",
    "print(tfidf.fit_transform(bag).toarray())"
   ]
  },
  {
   "cell_type": "markdown",
   "metadata": {},
   "source": [
    "# Подготовка данных: Предподготовка"
   ]
  },
  {
   "cell_type": "markdown",
   "metadata": {},
   "source": [
    "In this section, we will define a helper function to preprocess the text data as our text of reviews can contain special characters — html tags, emojis — that we would want to account for when training our model."
   ]
  },
  {
   "cell_type": "markdown",
   "metadata": {},
   "source": [
    "В этом разделе мы определим дополнительные функции для предобработки текстовых данных. Так как в данных содержатся специальные символы -  html tags, emojis, то мы можем включить их в рассмотрение во время обучения модели."
   ]
  },
  {
   "cell_type": "code",
   "execution_count": 10,
   "metadata": {},
   "outputs": [
    {
     "data": {
      "text/plain": [
       "'this is a test :) :('"
      ]
     },
     "execution_count": 10,
     "metadata": {},
     "output_type": "execute_result"
    }
   ],
   "source": [
    "import re\n",
    "def preprocessor(text):\n",
    "    text =re.sub('<[^>]*>', '', text)\n",
    "    emoticons = re.findall('(?::|;|=)(?:-)?(?:\\)|\\(|D|P)', text)\n",
    "    text = re.sub('[\\W]+', ' ', text.lower()) + ' '.join(emoticons).replace('-', '')\n",
    "    return text\n",
    "\n",
    "preprocessor(\"This is a :) test :-( !\")"
   ]
  },
  {
   "cell_type": "code",
   "execution_count": 57,
   "metadata": {},
   "outputs": [],
   "source": [
    "# preprocess data\n",
    "df.review = df.review.apply(preprocessor)"
   ]
  },
  {
   "cell_type": "markdown",
   "metadata": {},
   "source": [
    "# Tokenization of Documents\n",
    "# Разбиение докуметов на токены"
   ]
  },
  {
   "cell_type": "markdown",
   "metadata": {},
   "source": [
    "Stemming is a technic that reduces the inflectional forms, and sometimes derivationally related forms, of a common word to a base form. For example, the words ‘organizer’ and ‘organizing’ stems from the base word ‘organize’. So, stemming is conventionally referred to as a crude heuristic process that ‘chops’ off the ends of words, in the hope of achieving the goal correctly most of the time — this often includes the removal of derivational affixes."
   ]
  },
  {
   "cell_type": "markdown",
   "metadata": {},
   "source": [
    "Stemming это техника, которая уменьшает форму слова до инфинитива. Например, слова ‘organizer’ и ‘organizing’ происходят от слова ‘organize’. Поэтому, stemming представляют как простое \"обрезание\" конца слова, в надежде, что желаемая цель будет достигнута в большинстве случаев. Также stemming нередко \"обрезает\" производные суффиксы."
   ]
  },
  {
   "cell_type": "code",
   "execution_count": 11,
   "metadata": {},
   "outputs": [
    {
     "data": {
      "text/plain": [
       "['runners', 'like', 'running', 'thus', 'they', 'run']"
      ]
     },
     "execution_count": 11,
     "metadata": {},
     "output_type": "execute_result"
    }
   ],
   "source": [
    "from nltk.stem.porter import PorterStemmer\n",
    "\n",
    "porter = PorterStemmer()\n",
    "\n",
    "def tokenizer(text):\n",
    "    return text.split()\n",
    "\n",
    "def tokenizer_stemmer(text):\n",
    "    return[porter.stem(word) for word in text.split()]\n",
    "\n",
    "tokenizer('runners like running thus they run')"
   ]
  },
  {
   "cell_type": "code",
   "execution_count": 59,
   "metadata": {},
   "outputs": [
    {
     "data": {
      "text/plain": [
       "['runner', 'like', 'run', 'thu', 'they', 'run']"
      ]
     },
     "execution_count": 59,
     "metadata": {},
     "output_type": "execute_result"
    }
   ],
   "source": [
    "tokenizer_stemmer('runners like running thus they run')"
   ]
  },
  {
   "cell_type": "code",
   "execution_count": 14,
   "metadata": {},
   "outputs": [
    {
     "name": "stderr",
     "output_type": "stream",
     "text": [
      "[nltk_data] Downloading package stopwords to\n",
      "[nltk_data]     /Users/mihailmihaylov/nltk_data...\n",
      "[nltk_data]   Unzipping corpora/stopwords.zip.\n"
     ]
    },
    {
     "data": {
      "text/plain": [
       "True"
      ]
     },
     "execution_count": 14,
     "metadata": {},
     "output_type": "execute_result"
    }
   ],
   "source": [
    "nltk.download('stopwords')"
   ]
  },
  {
   "cell_type": "code",
   "execution_count": 15,
   "metadata": {},
   "outputs": [
    {
     "data": {
      "text/plain": [
       "['runner', 'like', 'run', 'thu', 'run']"
      ]
     },
     "execution_count": 15,
     "metadata": {},
     "output_type": "execute_result"
    }
   ],
   "source": [
    "stop = stopwords.words('english')\n",
    "[w for w in tokenizer_stemmer('runners like running thus they run') if w not in stop]"
   ]
  },
  {
   "cell_type": "markdown",
   "metadata": {},
   "source": [
    "# Transform Text Data into TD-IDF Vectors\n",
    "# Преобразовние текстовых данных в TD-IDF вектора"
   ]
  },
  {
   "cell_type": "markdown",
   "metadata": {},
   "source": [
    "We have already done this TD-IDF transformation on our previous sample documents, but now we fill fit_transform our movie review dataset into TD-IDF values. However, instead of breaking the process down into several steps— breaking the documents down into term frequencies, then transforming them into TD-IDF values — we will implement the TfidfVectorizer method that carries out all the above steps in one single step."
   ]
  },
  {
   "cell_type": "markdown",
   "metadata": {},
   "source": [
    "Мы уже делали TD-IDF преобразование на наших тестовых данных, но сейчас мы преобразуем нашы данных о отзывах о фильмах в TD-IDF значения. Но, вместо того, чтоб разбивать процесс на несколько шагов-разбивание документов на частотный словарь, а потом преобразование в TD-IDF значение. Мы применим метод TfidfVectorizer, который все это сделает за раз."
   ]
  },
  {
   "cell_type": "code",
   "execution_count": 17,
   "metadata": {},
   "outputs": [],
   "source": [
    "tfidf = TfidfVectorizer(strip_accents=None,\n",
    "                         lowercase=True,\n",
    "                         preprocessor=preprocessor,  # applied preprocessor in Data Cleaning\n",
    "                         tokenizer=tokenizer_stemmer,\n",
    "                         use_idf=True,\n",
    "                         norm='l2',\n",
    "                         smooth_idf=True)\n",
    "\n",
    "y = data.sentiment.values\n",
    "X = tfidf.fit_transform(data.review)"
   ]
  },
  {
   "cell_type": "code",
   "execution_count": 62,
   "metadata": {},
   "outputs": [
    {
     "data": {
      "text/plain": [
       "<50000x73765 sparse matrix of type '<class 'numpy.float64'>'\n",
       "\twith 6785348 stored elements in Compressed Sparse Row format>"
      ]
     },
     "execution_count": 62,
     "metadata": {},
     "output_type": "execute_result"
    }
   ],
   "source": [
    "X"
   ]
  },
  {
   "cell_type": "code",
   "execution_count": 63,
   "metadata": {},
   "outputs": [
    {
     "data": {
      "text/plain": [
       "array([0, 0, 0, ..., 1, 1, 1])"
      ]
     },
     "execution_count": 63,
     "metadata": {},
     "output_type": "execute_result"
    }
   ],
   "source": [
    "df.sentiment.values"
   ]
  },
  {
   "cell_type": "markdown",
   "metadata": {},
   "source": [
    "# Document Classification using Logistic Regression\n",
    "# Классификация документа с помощью логистической регрессии"
   ]
  },
  {
   "cell_type": "markdown",
   "metadata": {},
   "source": [
    "With X and y as our feature matrices of TD-IDF values and target vector of sentiment values respectively, we are ready to split our dataset into training and test sets. Then, we will fit our training set into a Logistic Regression model.\n",
    "Note that instead of manually hyperparamter tuning our model, we’re using LogisticRegressionCV to specify the number of cross-validation folds we want to do to tune the hyperparameter — that is 5-fold cross-validation."
   ]
  },
  {
   "cell_type": "markdown",
   "metadata": {},
   "source": [
    "С X и y как с признаковой матрицей TD-IDF значений и целевого вектора меток классов соответственно, мы готовы разделить наш датасет на обучающую и тестовую выборки. Затем, мы обучим модель логистической регрессии на тренировачных данных. Отмети, что вместо настраивания гиперпараметров вручную, мы используем LogisticRegressionCV для задания количества фолдов кросс-валидации для настраивания гиперпараметра. Количетво фолдов - 5"
   ]
  },
  {
   "cell_type": "code",
   "execution_count": 18,
   "metadata": {},
   "outputs": [
    {
     "name": "stderr",
     "output_type": "stream",
     "text": [
      "[Parallel(n_jobs=-1)]: Using backend LokyBackend with 4 concurrent workers.\n",
      "[Parallel(n_jobs=-1)]: Done   2 out of   5 | elapsed:  2.6min remaining:  3.9min\n",
      "[Parallel(n_jobs=-1)]: Done   5 out of   5 | elapsed:  3.5min finished\n"
     ]
    }
   ],
   "source": [
    "from sklearn.model_selection import train_test_split\n",
    "\n",
    "\n",
    "X_train, X_test, y_train, y_test = train_test_split(X, y, test_size=0.1, shuffle=True)\n",
    "\n",
    "\n",
    "clf = LogisticRegressionCV(cv=5,\n",
    "                           scoring='accuracy',\n",
    "                           random_state=0,\n",
    "                           n_jobs=-1,\n",
    "                           verbose=3,\n",
    "                           max_iter=400).fit(X_train, y_train)"
   ]
  },
  {
   "cell_type": "code",
   "execution_count": 19,
   "metadata": {},
   "outputs": [
    {
     "data": {
      "text/plain": [
       "<45000x73814 sparse matrix of type '<class 'numpy.float64'>'\n",
       "\twith 6107022 stored elements in Compressed Sparse Row format>"
      ]
     },
     "execution_count": 19,
     "metadata": {},
     "output_type": "execute_result"
    }
   ],
   "source": [
    "X_train"
   ]
  },
  {
   "cell_type": "code",
   "execution_count": 20,
   "metadata": {},
   "outputs": [
    {
     "data": {
      "text/plain": [
       "45000"
      ]
     },
     "execution_count": 20,
     "metadata": {},
     "output_type": "execute_result"
    }
   ],
   "source": [
    "len(y_train)"
   ]
  },
  {
   "cell_type": "markdown",
   "metadata": {},
   "source": [
    "Сохраним модель использую модуль pickle"
   ]
  },
  {
   "cell_type": "code",
   "execution_count": 21,
   "metadata": {},
   "outputs": [],
   "source": [
    "saved_model = open('saved_model_sentiment.sav', 'wb')\n",
    "pickle.dump(clf, saved_model)\n",
    "saved_model.close()"
   ]
  },
  {
   "cell_type": "markdown",
   "metadata": {},
   "source": [
    "# Model Evaluation\n",
    "# Оценка качества модели"
   ]
  },
  {
   "cell_type": "markdown",
   "metadata": {},
   "source": [
    "Finally, we will be passing our test data — data our model has not seen before — for inference towards how well our model did."
   ]
  },
  {
   "cell_type": "markdown",
   "metadata": {},
   "source": [
    "Наконец, мы будем проверять нашу модель на тестовой выборке."
   ]
  },
  {
   "cell_type": "code",
   "execution_count": 22,
   "metadata": {},
   "outputs": [],
   "source": [
    "filename = 'saved_model_sentiment.sav'\n",
    "saved_clf = pickle.load(open(filename, 'rb'))"
   ]
  },
  {
   "cell_type": "code",
   "execution_count": 23,
   "metadata": {},
   "outputs": [
    {
     "data": {
      "text/plain": [
       "0.9002"
      ]
     },
     "execution_count": 23,
     "metadata": {},
     "output_type": "execute_result"
    }
   ],
   "source": [
    "saved_clf.score(X_test, y_test)"
   ]
  },
  {
   "cell_type": "code",
   "execution_count": 24,
   "metadata": {},
   "outputs": [
    {
     "name": "stdout",
     "output_type": "stream",
     "text": [
      "Accuracy of our model: 0.9002\n"
     ]
    }
   ],
   "source": [
    "predicted = saved_clf.predict(X_test)\n",
    "# Точность на контрольном датасете\n",
    "score_test = accuracy_score(y_test, predicted)\n",
    "print('Accuracy of our model:', score_test)"
   ]
  },
  {
   "cell_type": "markdown",
   "metadata": {},
   "source": [
    "# Confusion matrix\n",
    "# Матрица ошибок"
   ]
  },
  {
   "cell_type": "code",
   "execution_count": 26,
   "metadata": {},
   "outputs": [
    {
     "name": "stdout",
     "output_type": "stream",
     "text": [
      "[[2276  233]\n",
      " [ 266 2225]]\n"
     ]
    }
   ],
   "source": [
    "def plot_confusion_matrix(cm, classes,\n",
    "                          normalize=False,\n",
    "                          title='Confusion matrix',\n",
    "                          cmap=plt.cm.Blues):\n",
    "    \"\"\"\n",
    "    This function prints and plots the confusion matrix.\n",
    "    Normalization can be applied by setting `normalize=True`.\n",
    "    \"\"\"\n",
    "    if normalize:\n",
    "        cm = cm.astype('float') / cm.sum(axis=1)[:, np.newaxis]\n",
    "        print(\"Normalized confusion matrix\")\n",
    "    else:\n",
    "        print('Confusion matrix, without normalization')\n",
    "\n",
    "    print(cm)\n",
    "\n",
    "    plt.imshow(cm, interpolation='nearest', cmap=cmap)\n",
    "    plt.title(title)\n",
    "    plt.colorbar()\n",
    "    tick_marks = np.arange(len(classes))\n",
    "    plt.xticks(tick_marks, classes, rotation=45)\n",
    "    plt.yticks(tick_marks, classes)\n",
    "\n",
    "    fmt = '.2f' if normalize else 'd'\n",
    "    thresh = cm.max() / 2.\n",
    "    for i, j in itertools.product(range(cm.shape[0]), range(cm.shape[1])):\n",
    "        plt.text(j, i, format(cm[i, j], fmt),\n",
    "                 horizontalalignment=\"center\",\n",
    "                 color=\"white\" if cm[i, j] > thresh else \"black\")\n",
    "\n",
    "    plt.tight_layout()\n",
    "    plt.ylabel('True label')\n",
    "    plt.xlabel('Predicted label')\n",
    "print(confusion_matrix(y_test, predicted, labels=[1, 0]))"
   ]
  },
  {
   "cell_type": "code",
   "execution_count": 27,
   "metadata": {},
   "outputs": [
    {
     "name": "stdout",
     "output_type": "stream",
     "text": [
      "Confusion matrix, without normalization\n",
      "[[2276  233]\n",
      " [ 266 2225]]\n"
     ]
    },
    {
     "data": {
      "image/png": "[encoded data removed]",
      "text/plain": [
       "<Figure size 936x360 with 2 Axes>"
      ]
     },
     "metadata": {
      "needs_background": "light"
     },
     "output_type": "display_data"
    }
   ],
   "source": [
    "# Compute confusion matrix\n",
    "cnf_matrix = confusion_matrix(y_test, predicted, labels=[1,0])\n",
    "np.set_printoptions(precision=2)\n",
    "\n",
    "\n",
    "# Plot non-normalized confusion matrix\n",
    "plt.figure(figsize=(13,5))\n",
    "plot_confusion_matrix(cnf_matrix, classes=['positive=1','negative=0'],normalize= False,  title='Confusion matrix')"
   ]
  },
  {
   "cell_type": "markdown",
   "metadata": {},
   "source": [
    "В добавок проверим, как наша модель предсказывает новые отзывы."
   ]
  },
  {
   "cell_type": "code",
   "execution_count": 28,
   "metadata": {},
   "outputs": [],
   "source": [
    "rev_pos = ['What an excellent film by Rian Johnson; definitely feels like the film he was destined to make. Writing that is slick as hell, sublime performances (most notably Daniel Craig who brings his A-game in a wonderfully charismatic turn), superb editing and wonderfully atmospheric music - all tied together by masterful direction. Will probably be among the most fun you have at a theatre this year and fans of Agatha Christie and old murder mystery stories will have plenty to love here - a nostalgically entertaining time!']\n",
    "\n",
    "X_rev_pos = tfidf.transform(rev_pos)\n",
    "\n",
    "rev_neg_1 = [\"Although this show is very highly rated I couldn't force myself to keep watching after a few episodes simply because of the way the actors talk. I wouldn't even say the acting is bad, the characters just can't keep up with all this dark, cold and mysterious plot. The people are all equally dark, cold and mysterious and that's just not the way people are or at least behave. For Non-German audience it is probably easier to get into but the show is set in Germany in German language. And no one here talks that way, like an emotionless robot (maybe that's the way we are seen by the world but it's not true). So every dialogue of the show reminded me just how different and stylish it wants to be, completely forgetting human depth or even basic human feelings (when you begin to ask yourself if there is any character capable of loving, even if it's just their family members, you know there is something wrong).\"]\n",
    "\n",
    "X_rev_neg_1 = tfidf.transform(rev_neg_1)\n",
    "\n",
    "rev_pos_1 = [\"This feedback is currently based on the first 10 episodes of season one (still watching the series as we speak), and to be honest it made me downgrade my rating for 'Stranger Things' quite a bit. It's clear that this series is the child of a genius - everything just works. The acting is great, the cinematography is great, the soundtrack is awesome (reminds me of Klaus Schulze at times), and the story-line is mind-boggling. This series is just miles above anything that leaves Hollywood. Wish that all productions could be like this. Thanks Netflix for bringing this awesome series to me screen. Say bye-bye to public television!\"]\n",
    "\n",
    "X_rev_pos_1 = tfidf.transform(rev_pos_1)\n",
    "\n",
    "rev_pos = [\"This movie is good\"]\n",
    "X_rev_pos = tfidf.transform(rev_pos)"
   ]
  },
  {
   "cell_type": "code",
   "execution_count": 29,
   "metadata": {},
   "outputs": [],
   "source": [
    "sent_pos = np.array([1])\n",
    "sent_neg_1 = np.array([0])\n",
    "sent_pos_1 = np.array([1])\n",
    "sent_pos = np.array([1])\n",
    "y_rev_pos = sent_pos\n",
    "y_rev_neg_1 = sent_neg_1\n",
    "y_rev_pos_1 = sent_pos_1\n",
    "y_rev_pos = sent_pos"
   ]
  },
  {
   "cell_type": "markdown",
   "metadata": {},
   "source": [
    "Видно, что наша модель хорошо справляется с новыми отзывами"
   ]
  },
  {
   "cell_type": "code",
   "execution_count": 30,
   "metadata": {},
   "outputs": [
    {
     "name": "stdout",
     "output_type": "stream",
     "text": [
      "Должно быть 1 и у меня: [1]\n",
      "1.0\n",
      "Должно быть 0 и у меня: [0]\n",
      "1.0\n",
      "Должно быть 1 и у меня: [1]\n",
      "1.0\n",
      "Должно быть 1 и у меня: [1]\n",
      "1.0\n"
     ]
    }
   ],
   "source": [
    "predicted_rev_pos = saved_clf.predict(X_rev_pos)\n",
    "# Точность на контрольном датасете\n",
    "score_test_pos = accuracy_score(y_rev_pos, predicted_rev_pos)\n",
    "print('Должно быть 1 и у меня:', predicted_rev_pos)\n",
    "print(score_test_pos)\n",
    "\n",
    "predicted_rev_neg_1 = saved_clf.predict(X_rev_neg_1)\n",
    "# Точность на контрольном датасете\n",
    "score_test_neg_1 = accuracy_score(y_rev_neg_1, predicted_rev_neg_1)\n",
    "print('Должно быть 0 и у меня:', predicted_rev_neg_1)\n",
    "print(score_test_neg_1)\n",
    "\n",
    "predicted_rev_pos_1 = saved_clf.predict(X_rev_pos_1)\n",
    "# Точность на контрольном датасете\n",
    "score_test_pos_1 = accuracy_score(y_rev_pos_1, predicted_rev_pos_1)\n",
    "print('Должно быть 1 и у меня:', predicted_rev_pos_1)\n",
    "print(score_test_pos_1)\n",
    "\n",
    "predicted_rev_pos = saved_clf.predict(X_rev_pos)\n",
    "# Точность на контрольном датасете\n",
    "score_test_pos = accuracy_score(y_rev_pos, predicted_rev_pos)\n",
    "print('Должно быть 1 и у меня:', predicted_rev_pos)\n",
    "print(score_test_pos)"
   ]
  }
 ],
 "metadata": {
  "kernelspec": {
   "display_name": "Python 3",
   "language": "python",
   "name": "python3"
  },
  "language_info": {
   "codemirror_mode": {
    "name": "ipython",
    "version": 3
   },
   "file_extension": ".py",
   "mimetype": "text/x-python",
   "name": "python",
   "nbconvert_exporter": "python",
   "pygments_lexer": "ipython3",
   "version": "3.8.5"
  }
 },
 "nbformat": 4,
 "nbformat_minor": 4
}
